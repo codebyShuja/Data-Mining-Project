{
  "cells": [
    {
      "cell_type": "code",
      "execution_count": null,
      "metadata": {
        "id": "IxOOHWrGKbHH"
      },
      "outputs": [],
      "source": [
        "import numpy as np\n",
        "import pandas as pd\n",
        "import jieba.posseg as pseg\n",
        "import os\n",
        "import keras\n",
        "import seaborn as sns\n",
        "import matplotlib.pyplot as plt\n",
        "import string\n",
        "import re\n",
        "import nltk\n",
        "from nltk.corpus import stopwords\n",
        "from nltk.stem import PorterStemmer\n",
        "from multiprocessing import cpu_count, Pool\n",
        "from sklearn.model_selection import train_test_split\n",
        "from keras import Input\n",
        "from keras.layers import Embedding,LSTM, concatenate, Dense\n",
        "from keras.models import Model\n",
        "from keras.layers import Embedding\n",
        "from tensorflow.keras.optimizers import Adam\n",
        "import torch\n",
        "from torch.utils.data import Dataset, TensorDataset, DataLoader\n",
        "from torch.nn.utils.rnn import pad_sequence\n",
        "import pickle\n",
        "import os\n",
        "from transformers import BertTokenizer"
      ]
    },
    {
      "cell_type": "code",
      "execution_count": null,
      "metadata": {
        "id": "v5woNgJ-QbVn"
      },
      "outputs": [],
      "source": [
        "pd.set_option('max_columns', 100)\n",
        "pd.set_option('max_rows', 100)\n",
        "if os.path.isdir(\"/content/\"):\n",
        "    TrainCSV = '/content/train.csv'\n",
        "    TestCSV = '/content/test.csv'\n",
        "    TokenTrainCSV = \"/content/tokenized_train.csv\"\n",
        "    TokenTestCSV = \"/content/tokenized_test.csv\"\n",
        "else:\n",
        "    TrainCSV = '/content/train.csv'\n",
        "    TestCSV = '/content/test.csv'\n",
        "    TokenTrainCSV = None\n",
        "\n",
        "train = pd.read_csv(TrainCSV,encoding = \"utf-8\")\n",
        "test = pd.read_csv(TestCSV,encoding = \"utf-8\")"
      ]
    },
    {
      "cell_type": "code",
      "execution_count": null,
      "metadata": {
        "colab": {
          "base_uri": "https://localhost:8080/",
          "height": 337
        },
        "id": "0wymRm_yMMRt",
        "outputId": "aa8ffa77-54f8-46ac-b34d-ec065032ebd5"
      },
      "outputs": [
        {
          "data": {
            "text/html": [
              "\n",
              "  <div id=\"df-c20c0d72-c9e7-4060-b69f-c0c4a446587f\">\n",
              "    <div class=\"colab-df-container\">\n",
              "      <div>\n",
              "<style scoped>\n",
              "    .dataframe tbody tr th:only-of-type {\n",
              "        vertical-align: middle;\n",
              "    }\n",
              "\n",
              "    .dataframe tbody tr th {\n",
              "        vertical-align: top;\n",
              "    }\n",
              "\n",
              "    .dataframe thead th {\n",
              "        text-align: right;\n",
              "    }\n",
              "</style>\n",
              "<table border=\"1\" class=\"dataframe\">\n",
              "  <thead>\n",
              "    <tr style=\"text-align: right;\">\n",
              "      <th></th>\n",
              "      <th>id</th>\n",
              "      <th>tid1</th>\n",
              "      <th>tid2</th>\n",
              "      <th>title1_zh</th>\n",
              "      <th>title2_zh</th>\n",
              "      <th>title1_en</th>\n",
              "      <th>title2_en</th>\n",
              "      <th>label</th>\n",
              "    </tr>\n",
              "  </thead>\n",
              "  <tbody>\n",
              "    <tr>\n",
              "      <th>0</th>\n",
              "      <td>0</td>\n",
              "      <td>0</td>\n",
              "      <td>1</td>\n",
              "      <td>2017养老保险又新增两项，农村老人人人可申领，你领到了吗</td>\n",
              "      <td>警方辟谣“鸟巢大会每人领5万” 仍有老人坚持进京</td>\n",
              "      <td>There are two new old-age insurance benefits f...</td>\n",
              "      <td>Police disprove \"bird's nest congress each per...</td>\n",
              "      <td>unrelated</td>\n",
              "    </tr>\n",
              "    <tr>\n",
              "      <th>1</th>\n",
              "      <td>3</td>\n",
              "      <td>2</td>\n",
              "      <td>3</td>\n",
              "      <td>\"你不来深圳，早晚你儿子也要来\"，不出10年深圳人均GDP将超香港</td>\n",
              "      <td>深圳GDP首超香港？深圳统计局辟谣：只是差距在缩小</td>\n",
              "      <td>\"If you do not come to Shenzhen, sooner or lat...</td>\n",
              "      <td>Shenzhen's GDP outstrips Hong Kong? Shenzhen S...</td>\n",
              "      <td>unrelated</td>\n",
              "    </tr>\n",
              "    <tr>\n",
              "      <th>2</th>\n",
              "      <td>1</td>\n",
              "      <td>2</td>\n",
              "      <td>4</td>\n",
              "      <td>\"你不来深圳，早晚你儿子也要来\"，不出10年深圳人均GDP将超香港</td>\n",
              "      <td>GDP首超香港？深圳澄清：还差一点点……</td>\n",
              "      <td>\"If you do not come to Shenzhen, sooner or lat...</td>\n",
              "      <td>The GDP overtopped Hong Kong? Shenzhen clarifi...</td>\n",
              "      <td>unrelated</td>\n",
              "    </tr>\n",
              "    <tr>\n",
              "      <th>3</th>\n",
              "      <td>2</td>\n",
              "      <td>2</td>\n",
              "      <td>5</td>\n",
              "      <td>\"你不来深圳，早晚你儿子也要来\"，不出10年深圳人均GDP将超香港</td>\n",
              "      <td>去年深圳GDP首超香港？深圳统计局辟谣：还差611亿</td>\n",
              "      <td>\"If you do not come to Shenzhen, sooner or lat...</td>\n",
              "      <td>Shenzhen's GDP topped Hong Kong last year? She...</td>\n",
              "      <td>unrelated</td>\n",
              "    </tr>\n",
              "    <tr>\n",
              "      <th>4</th>\n",
              "      <td>9</td>\n",
              "      <td>6</td>\n",
              "      <td>7</td>\n",
              "      <td>\"用大蒜鉴别地沟油的方法,怎么鉴别地沟油</td>\n",
              "      <td>吃了30年食用油才知道，一片大蒜轻松鉴别地沟油</td>\n",
              "      <td>\"How to discriminate oil from gutter oil by me...</td>\n",
              "      <td>It took 30 years of cooking oil to know that o...</td>\n",
              "      <td>agreed</td>\n",
              "    </tr>\n",
              "  </tbody>\n",
              "</table>\n",
              "</div>\n",
              "      <button class=\"colab-df-convert\" onclick=\"convertToInteractive('df-c20c0d72-c9e7-4060-b69f-c0c4a446587f')\"\n",
              "              title=\"Convert this dataframe to an interactive table.\"\n",
              "              style=\"display:none;\">\n",
              "        \n",
              "  <svg xmlns=\"http://www.w3.org/2000/svg\" height=\"24px\"viewBox=\"0 0 24 24\"\n",
              "       width=\"24px\">\n",
              "    <path d=\"M0 0h24v24H0V0z\" fill=\"none\"/>\n",
              "    <path d=\"M18.56 5.44l.94 2.06.94-2.06 2.06-.94-2.06-.94-.94-2.06-.94 2.06-2.06.94zm-11 1L8.5 8.5l.94-2.06 2.06-.94-2.06-.94L8.5 2.5l-.94 2.06-2.06.94zm10 10l.94 2.06.94-2.06 2.06-.94-2.06-.94-.94-2.06-.94 2.06-2.06.94z\"/><path d=\"M17.41 7.96l-1.37-1.37c-.4-.4-.92-.59-1.43-.59-.52 0-1.04.2-1.43.59L10.3 9.45l-7.72 7.72c-.78.78-.78 2.05 0 2.83L4 21.41c.39.39.9.59 1.41.59.51 0 1.02-.2 1.41-.59l7.78-7.78 2.81-2.81c.8-.78.8-2.07 0-2.86zM5.41 20L4 18.59l7.72-7.72 1.47 1.35L5.41 20z\"/>\n",
              "  </svg>\n",
              "      </button>\n",
              "      \n",
              "  <style>\n",
              "    .colab-df-container {\n",
              "      display:flex;\n",
              "      flex-wrap:wrap;\n",
              "      gap: 12px;\n",
              "    }\n",
              "\n",
              "    .colab-df-convert {\n",
              "      background-color: #E8F0FE;\n",
              "      border: none;\n",
              "      border-radius: 50%;\n",
              "      cursor: pointer;\n",
              "      display: none;\n",
              "      fill: #1967D2;\n",
              "      height: 32px;\n",
              "      padding: 0 0 0 0;\n",
              "      width: 32px;\n",
              "    }\n",
              "\n",
              "    .colab-df-convert:hover {\n",
              "      background-color: #E2EBFA;\n",
              "      box-shadow: 0px 1px 2px rgba(60, 64, 67, 0.3), 0px 1px 3px 1px rgba(60, 64, 67, 0.15);\n",
              "      fill: #174EA6;\n",
              "    }\n",
              "\n",
              "    [theme=dark] .colab-df-convert {\n",
              "      background-color: #3B4455;\n",
              "      fill: #D2E3FC;\n",
              "    }\n",
              "\n",
              "    [theme=dark] .colab-df-convert:hover {\n",
              "      background-color: #434B5C;\n",
              "      box-shadow: 0px 1px 3px 1px rgba(0, 0, 0, 0.15);\n",
              "      filter: drop-shadow(0px 1px 2px rgba(0, 0, 0, 0.3));\n",
              "      fill: #FFFFFF;\n",
              "    }\n",
              "  </style>\n",
              "\n",
              "      <script>\n",
              "        const buttonEl =\n",
              "          document.querySelector('#df-c20c0d72-c9e7-4060-b69f-c0c4a446587f button.colab-df-convert');\n",
              "        buttonEl.style.display =\n",
              "          google.colab.kernel.accessAllowed ? 'block' : 'none';\n",
              "\n",
              "        async function convertToInteractive(key) {\n",
              "          const element = document.querySelector('#df-c20c0d72-c9e7-4060-b69f-c0c4a446587f');\n",
              "          const dataTable =\n",
              "            await google.colab.kernel.invokeFunction('convertToInteractive',\n",
              "                                                     [key], {});\n",
              "          if (!dataTable) return;\n",
              "\n",
              "          const docLinkHtml = 'Like what you see? Visit the ' +\n",
              "            '<a target=\"_blank\" href=https://colab.research.google.com/notebooks/data_table.ipynb>data table notebook</a>'\n",
              "            + ' to learn more about interactive tables.';\n",
              "          element.innerHTML = '';\n",
              "          dataTable['output_type'] = 'display_data';\n",
              "          await google.colab.output.renderOutput(dataTable, element);\n",
              "          const docLink = document.createElement('div');\n",
              "          docLink.innerHTML = docLinkHtml;\n",
              "          element.appendChild(docLink);\n",
              "        }\n",
              "      </script>\n",
              "    </div>\n",
              "  </div>\n",
              "  "
            ],
            "text/plain": [
              "   id  tid1  tid2                          title1_zh  \\\n",
              "0   0     0     1      2017养老保险又新增两项，农村老人人人可申领，你领到了吗   \n",
              "1   3     2     3  \"你不来深圳，早晚你儿子也要来\"，不出10年深圳人均GDP将超香港   \n",
              "2   1     2     4  \"你不来深圳，早晚你儿子也要来\"，不出10年深圳人均GDP将超香港   \n",
              "3   2     2     5  \"你不来深圳，早晚你儿子也要来\"，不出10年深圳人均GDP将超香港   \n",
              "4   9     6     7               \"用大蒜鉴别地沟油的方法,怎么鉴别地沟油   \n",
              "\n",
              "                    title2_zh  \\\n",
              "0    警方辟谣“鸟巢大会每人领5万” 仍有老人坚持进京   \n",
              "1   深圳GDP首超香港？深圳统计局辟谣：只是差距在缩小   \n",
              "2        GDP首超香港？深圳澄清：还差一点点……   \n",
              "3  去年深圳GDP首超香港？深圳统计局辟谣：还差611亿   \n",
              "4     吃了30年食用油才知道，一片大蒜轻松鉴别地沟油   \n",
              "\n",
              "                                           title1_en  \\\n",
              "0  There are two new old-age insurance benefits f...   \n",
              "1  \"If you do not come to Shenzhen, sooner or lat...   \n",
              "2  \"If you do not come to Shenzhen, sooner or lat...   \n",
              "3  \"If you do not come to Shenzhen, sooner or lat...   \n",
              "4  \"How to discriminate oil from gutter oil by me...   \n",
              "\n",
              "                                           title2_en      label  \n",
              "0  Police disprove \"bird's nest congress each per...  unrelated  \n",
              "1  Shenzhen's GDP outstrips Hong Kong? Shenzhen S...  unrelated  \n",
              "2  The GDP overtopped Hong Kong? Shenzhen clarifi...  unrelated  \n",
              "3  Shenzhen's GDP topped Hong Kong last year? She...  unrelated  \n",
              "4  It took 30 years of cooking oil to know that o...     agreed  "
            ]
          },
          "execution_count": 96,
          "metadata": {},
          "output_type": "execute_result"
        }
      ],
      "source": [
        "TrainDF = pd.DataFrame(train)\n",
        "TrainDF.head()"
      ]
    },
    {
      "cell_type": "code",
      "execution_count": null,
      "metadata": {
        "colab": {
          "base_uri": "https://localhost:8080/",
          "height": 337
        },
        "id": "ygqz8micNJdQ",
        "outputId": "815a5fcd-4023-416f-fe94-8c6acfbcb7ef"
      },
      "outputs": [
        {
          "data": {
            "text/html": [
              "\n",
              "  <div id=\"df-9b5ec6d3-8cd1-4314-a3b5-4fab63b727f4\">\n",
              "    <div class=\"colab-df-container\">\n",
              "      <div>\n",
              "<style scoped>\n",
              "    .dataframe tbody tr th:only-of-type {\n",
              "        vertical-align: middle;\n",
              "    }\n",
              "\n",
              "    .dataframe tbody tr th {\n",
              "        vertical-align: top;\n",
              "    }\n",
              "\n",
              "    .dataframe thead th {\n",
              "        text-align: right;\n",
              "    }\n",
              "</style>\n",
              "<table border=\"1\" class=\"dataframe\">\n",
              "  <thead>\n",
              "    <tr style=\"text-align: right;\">\n",
              "      <th></th>\n",
              "      <th>id</th>\n",
              "      <th>tid1</th>\n",
              "      <th>tid2</th>\n",
              "      <th>title1_zh</th>\n",
              "      <th>title2_zh</th>\n",
              "      <th>title1_en</th>\n",
              "      <th>title2_en</th>\n",
              "    </tr>\n",
              "  </thead>\n",
              "  <tbody>\n",
              "    <tr>\n",
              "      <th>0</th>\n",
              "      <td>321187</td>\n",
              "      <td>167562</td>\n",
              "      <td>59521</td>\n",
              "      <td>萨拉赫人气爆棚!埃及总统大选未参选获百万选票 现任总统压力山大</td>\n",
              "      <td>辟谣！里昂官方否认费基尔加盟利物浦，难道是价格没谈拢？</td>\n",
              "      <td>egypt 's presidential election failed to win m...</td>\n",
              "      <td>Lyon! Lyon officials have denied that Felipe F...</td>\n",
              "    </tr>\n",
              "    <tr>\n",
              "      <th>1</th>\n",
              "      <td>321190</td>\n",
              "      <td>167564</td>\n",
              "      <td>91315</td>\n",
              "      <td>萨达姆被捕后告诫美国的一句话，发人深思</td>\n",
              "      <td>10大最让美国人相信的荒诞谣言，如蜥蜴人掌控着美国</td>\n",
              "      <td>A message from Saddam Hussein after he was cap...</td>\n",
              "      <td>The Top 10 Americans believe that the Lizard M...</td>\n",
              "    </tr>\n",
              "    <tr>\n",
              "      <th>2</th>\n",
              "      <td>321189</td>\n",
              "      <td>167563</td>\n",
              "      <td>167564</td>\n",
              "      <td>萨达姆此项计划没有此国破坏的话，美国还会对伊拉克发动战争吗</td>\n",
              "      <td>萨达姆被捕后告诫美国的一句话，发人深思</td>\n",
              "      <td>Will the United States wage war on Iraq withou...</td>\n",
              "      <td>A message from Saddam Hussein after he was cap...</td>\n",
              "    </tr>\n",
              "    <tr>\n",
              "      <th>3</th>\n",
              "      <td>321193</td>\n",
              "      <td>167564</td>\n",
              "      <td>160994</td>\n",
              "      <td>萨达姆被捕后告诫美国的一句话，发人深思</td>\n",
              "      <td>被绞刑处死的萨达姆是替身？他的此男人举动击破替身谣言！</td>\n",
              "      <td>A message from Saddam Hussein after he was cap...</td>\n",
              "      <td>The hanging Saddam is a surrogate? This man's ...</td>\n",
              "    </tr>\n",
              "    <tr>\n",
              "      <th>4</th>\n",
              "      <td>321191</td>\n",
              "      <td>167564</td>\n",
              "      <td>15084</td>\n",
              "      <td>萨达姆被捕后告诫美国的一句话，发人深思</td>\n",
              "      <td>中国川贝枇杷膏在美国受到热捧？纯属谣言！</td>\n",
              "      <td>A message from Saddam Hussein after he was cap...</td>\n",
              "      <td>Chinese loquat loquat plaster in America? Pure...</td>\n",
              "    </tr>\n",
              "  </tbody>\n",
              "</table>\n",
              "</div>\n",
              "      <button class=\"colab-df-convert\" onclick=\"convertToInteractive('df-9b5ec6d3-8cd1-4314-a3b5-4fab63b727f4')\"\n",
              "              title=\"Convert this dataframe to an interactive table.\"\n",
              "              style=\"display:none;\">\n",
              "        \n",
              "  <svg xmlns=\"http://www.w3.org/2000/svg\" height=\"24px\"viewBox=\"0 0 24 24\"\n",
              "       width=\"24px\">\n",
              "    <path d=\"M0 0h24v24H0V0z\" fill=\"none\"/>\n",
              "    <path d=\"M18.56 5.44l.94 2.06.94-2.06 2.06-.94-2.06-.94-.94-2.06-.94 2.06-2.06.94zm-11 1L8.5 8.5l.94-2.06 2.06-.94-2.06-.94L8.5 2.5l-.94 2.06-2.06.94zm10 10l.94 2.06.94-2.06 2.06-.94-2.06-.94-.94-2.06-.94 2.06-2.06.94z\"/><path d=\"M17.41 7.96l-1.37-1.37c-.4-.4-.92-.59-1.43-.59-.52 0-1.04.2-1.43.59L10.3 9.45l-7.72 7.72c-.78.78-.78 2.05 0 2.83L4 21.41c.39.39.9.59 1.41.59.51 0 1.02-.2 1.41-.59l7.78-7.78 2.81-2.81c.8-.78.8-2.07 0-2.86zM5.41 20L4 18.59l7.72-7.72 1.47 1.35L5.41 20z\"/>\n",
              "  </svg>\n",
              "      </button>\n",
              "      \n",
              "  <style>\n",
              "    .colab-df-container {\n",
              "      display:flex;\n",
              "      flex-wrap:wrap;\n",
              "      gap: 12px;\n",
              "    }\n",
              "\n",
              "    .colab-df-convert {\n",
              "      background-color: #E8F0FE;\n",
              "      border: none;\n",
              "      border-radius: 50%;\n",
              "      cursor: pointer;\n",
              "      display: none;\n",
              "      fill: #1967D2;\n",
              "      height: 32px;\n",
              "      padding: 0 0 0 0;\n",
              "      width: 32px;\n",
              "    }\n",
              "\n",
              "    .colab-df-convert:hover {\n",
              "      background-color: #E2EBFA;\n",
              "      box-shadow: 0px 1px 2px rgba(60, 64, 67, 0.3), 0px 1px 3px 1px rgba(60, 64, 67, 0.15);\n",
              "      fill: #174EA6;\n",
              "    }\n",
              "\n",
              "    [theme=dark] .colab-df-convert {\n",
              "      background-color: #3B4455;\n",
              "      fill: #D2E3FC;\n",
              "    }\n",
              "\n",
              "    [theme=dark] .colab-df-convert:hover {\n",
              "      background-color: #434B5C;\n",
              "      box-shadow: 0px 1px 3px 1px rgba(0, 0, 0, 0.15);\n",
              "      filter: drop-shadow(0px 1px 2px rgba(0, 0, 0, 0.3));\n",
              "      fill: #FFFFFF;\n",
              "    }\n",
              "  </style>\n",
              "\n",
              "      <script>\n",
              "        const buttonEl =\n",
              "          document.querySelector('#df-9b5ec6d3-8cd1-4314-a3b5-4fab63b727f4 button.colab-df-convert');\n",
              "        buttonEl.style.display =\n",
              "          google.colab.kernel.accessAllowed ? 'block' : 'none';\n",
              "\n",
              "        async function convertToInteractive(key) {\n",
              "          const element = document.querySelector('#df-9b5ec6d3-8cd1-4314-a3b5-4fab63b727f4');\n",
              "          const dataTable =\n",
              "            await google.colab.kernel.invokeFunction('convertToInteractive',\n",
              "                                                     [key], {});\n",
              "          if (!dataTable) return;\n",
              "\n",
              "          const docLinkHtml = 'Like what you see? Visit the ' +\n",
              "            '<a target=\"_blank\" href=https://colab.research.google.com/notebooks/data_table.ipynb>data table notebook</a>'\n",
              "            + ' to learn more about interactive tables.';\n",
              "          element.innerHTML = '';\n",
              "          dataTable['output_type'] = 'display_data';\n",
              "          await google.colab.output.renderOutput(dataTable, element);\n",
              "          const docLink = document.createElement('div');\n",
              "          docLink.innerHTML = docLinkHtml;\n",
              "          element.appendChild(docLink);\n",
              "        }\n",
              "      </script>\n",
              "    </div>\n",
              "  </div>\n",
              "  "
            ],
            "text/plain": [
              "       id    tid1    tid2                        title1_zh  \\\n",
              "0  321187  167562   59521  萨拉赫人气爆棚!埃及总统大选未参选获百万选票 现任总统压力山大   \n",
              "1  321190  167564   91315              萨达姆被捕后告诫美国的一句话，发人深思   \n",
              "2  321189  167563  167564    萨达姆此项计划没有此国破坏的话，美国还会对伊拉克发动战争吗   \n",
              "3  321193  167564  160994              萨达姆被捕后告诫美国的一句话，发人深思   \n",
              "4  321191  167564   15084              萨达姆被捕后告诫美国的一句话，发人深思   \n",
              "\n",
              "                     title2_zh  \\\n",
              "0  辟谣！里昂官方否认费基尔加盟利物浦，难道是价格没谈拢？   \n",
              "1    10大最让美国人相信的荒诞谣言，如蜥蜴人掌控着美国   \n",
              "2          萨达姆被捕后告诫美国的一句话，发人深思   \n",
              "3  被绞刑处死的萨达姆是替身？他的此男人举动击破替身谣言！   \n",
              "4         中国川贝枇杷膏在美国受到热捧？纯属谣言！   \n",
              "\n",
              "                                           title1_en  \\\n",
              "0  egypt 's presidential election failed to win m...   \n",
              "1  A message from Saddam Hussein after he was cap...   \n",
              "2  Will the United States wage war on Iraq withou...   \n",
              "3  A message from Saddam Hussein after he was cap...   \n",
              "4  A message from Saddam Hussein after he was cap...   \n",
              "\n",
              "                                           title2_en  \n",
              "0  Lyon! Lyon officials have denied that Felipe F...  \n",
              "1  The Top 10 Americans believe that the Lizard M...  \n",
              "2  A message from Saddam Hussein after he was cap...  \n",
              "3  The hanging Saddam is a surrogate? This man's ...  \n",
              "4  Chinese loquat loquat plaster in America? Pure...  "
            ]
          },
          "execution_count": 97,
          "metadata": {},
          "output_type": "execute_result"
        }
      ],
      "source": [
        "TestDF = pd.DataFrame(test)\n",
        "TestDF.head()"
      ]
    },
    {
      "cell_type": "code",
      "execution_count": null,
      "metadata": {
        "colab": {
          "base_uri": "https://localhost:8080/"
        },
        "id": "Q-LWJPboYDbj",
        "outputId": "606b602d-bed5-4444-97e7-c4432e708fd0"
      },
      "outputs": [
        {
          "data": {
            "text/plain": [
              "(320552, 8)"
            ]
          },
          "execution_count": 98,
          "metadata": {},
          "output_type": "execute_result"
        }
      ],
      "source": [
        "train.shape"
      ]
    },
    {
      "cell_type": "code",
      "execution_count": null,
      "metadata": {
        "colab": {
          "base_uri": "https://localhost:8080/"
        },
        "id": "nsecUDWtYEFs",
        "outputId": "9226e30e-2a35-4f98-cad0-43ee081c1816"
      },
      "outputs": [
        {
          "data": {
            "text/plain": [
              "Index(['id', 'tid1', 'tid2', 'title1_zh', 'title2_zh', 'title1_en',\n",
              "       'title2_en', 'label'],\n",
              "      dtype='object')"
            ]
          },
          "execution_count": 99,
          "metadata": {},
          "output_type": "execute_result"
        }
      ],
      "source": [
        "train.columns"
      ]
    },
    {
      "cell_type": "code",
      "execution_count": null,
      "metadata": {
        "colab": {
          "base_uri": "https://localhost:8080/"
        },
        "id": "Axo1Lk0FYVn8",
        "outputId": "92d556e8-c6a5-407b-81f7-ce59e6239892"
      },
      "outputs": [
        {
          "name": "stdout",
          "output_type": "stream",
          "text": [
            "<class 'pandas.core.frame.DataFrame'>\n",
            "RangeIndex: 320552 entries, 0 to 320551\n",
            "Data columns (total 8 columns):\n",
            " #   Column     Non-Null Count   Dtype \n",
            "---  ------     --------------   ----- \n",
            " 0   id         320552 non-null  int64 \n",
            " 1   tid1       320552 non-null  int64 \n",
            " 2   tid2       320552 non-null  int64 \n",
            " 3   title1_zh  320552 non-null  object\n",
            " 4   title2_zh  320545 non-null  object\n",
            " 5   title1_en  320552 non-null  object\n",
            " 6   title2_en  320552 non-null  object\n",
            " 7   label      320552 non-null  object\n",
            "dtypes: int64(3), object(5)\n",
            "memory usage: 19.6+ MB\n"
          ]
        }
      ],
      "source": [
        "train.info()"
      ]
    },
    {
      "cell_type": "markdown",
      "metadata": {
        "id": "XplxybnMjQdG"
      },
      "source": [
        "## **Preprocessing**"
      ]
    },
    {
      "cell_type": "code",
      "execution_count": null,
      "metadata": {
        "id": "gGtfvPmzY4jb"
      },
      "outputs": [],
      "source": [
        "train.drop(['id','tid1', 'tid2','title1_zh', 'title2_zh'], axis=1, inplace=True)"
      ]
    },
    {
      "cell_type": "code",
      "execution_count": null,
      "metadata": {
        "colab": {
          "base_uri": "https://localhost:8080/",
          "height": 143
        },
        "id": "jAQkUVvMbyA9",
        "outputId": "4403235c-a34d-4a0d-af80-2c029130606d"
      },
      "outputs": [
        {
          "data": {
            "text/html": [
              "\n",
              "  <div id=\"df-c77232d9-1f27-4d5e-9e7f-bacf4763052b\">\n",
              "    <div class=\"colab-df-container\">\n",
              "      <div>\n",
              "<style scoped>\n",
              "    .dataframe tbody tr th:only-of-type {\n",
              "        vertical-align: middle;\n",
              "    }\n",
              "\n",
              "    .dataframe tbody tr th {\n",
              "        vertical-align: top;\n",
              "    }\n",
              "\n",
              "    .dataframe thead th {\n",
              "        text-align: right;\n",
              "    }\n",
              "</style>\n",
              "<table border=\"1\" class=\"dataframe\">\n",
              "  <thead>\n",
              "    <tr style=\"text-align: right;\">\n",
              "      <th></th>\n",
              "      <th>title1_en</th>\n",
              "      <th>title2_en</th>\n",
              "      <th>label</th>\n",
              "    </tr>\n",
              "  </thead>\n",
              "  <tbody>\n",
              "    <tr>\n",
              "      <th>0</th>\n",
              "      <td>There are two new old-age insurance benefits f...</td>\n",
              "      <td>Police disprove \"bird's nest congress each per...</td>\n",
              "      <td>unrelated</td>\n",
              "    </tr>\n",
              "    <tr>\n",
              "      <th>1</th>\n",
              "      <td>\"If you do not come to Shenzhen, sooner or lat...</td>\n",
              "      <td>Shenzhen's GDP outstrips Hong Kong? Shenzhen S...</td>\n",
              "      <td>unrelated</td>\n",
              "    </tr>\n",
              "    <tr>\n",
              "      <th>2</th>\n",
              "      <td>\"If you do not come to Shenzhen, sooner or lat...</td>\n",
              "      <td>The GDP overtopped Hong Kong? Shenzhen clarifi...</td>\n",
              "      <td>unrelated</td>\n",
              "    </tr>\n",
              "  </tbody>\n",
              "</table>\n",
              "</div>\n",
              "      <button class=\"colab-df-convert\" onclick=\"convertToInteractive('df-c77232d9-1f27-4d5e-9e7f-bacf4763052b')\"\n",
              "              title=\"Convert this dataframe to an interactive table.\"\n",
              "              style=\"display:none;\">\n",
              "        \n",
              "  <svg xmlns=\"http://www.w3.org/2000/svg\" height=\"24px\"viewBox=\"0 0 24 24\"\n",
              "       width=\"24px\">\n",
              "    <path d=\"M0 0h24v24H0V0z\" fill=\"none\"/>\n",
              "    <path d=\"M18.56 5.44l.94 2.06.94-2.06 2.06-.94-2.06-.94-.94-2.06-.94 2.06-2.06.94zm-11 1L8.5 8.5l.94-2.06 2.06-.94-2.06-.94L8.5 2.5l-.94 2.06-2.06.94zm10 10l.94 2.06.94-2.06 2.06-.94-2.06-.94-.94-2.06-.94 2.06-2.06.94z\"/><path d=\"M17.41 7.96l-1.37-1.37c-.4-.4-.92-.59-1.43-.59-.52 0-1.04.2-1.43.59L10.3 9.45l-7.72 7.72c-.78.78-.78 2.05 0 2.83L4 21.41c.39.39.9.59 1.41.59.51 0 1.02-.2 1.41-.59l7.78-7.78 2.81-2.81c.8-.78.8-2.07 0-2.86zM5.41 20L4 18.59l7.72-7.72 1.47 1.35L5.41 20z\"/>\n",
              "  </svg>\n",
              "      </button>\n",
              "      \n",
              "  <style>\n",
              "    .colab-df-container {\n",
              "      display:flex;\n",
              "      flex-wrap:wrap;\n",
              "      gap: 12px;\n",
              "    }\n",
              "\n",
              "    .colab-df-convert {\n",
              "      background-color: #E8F0FE;\n",
              "      border: none;\n",
              "      border-radius: 50%;\n",
              "      cursor: pointer;\n",
              "      display: none;\n",
              "      fill: #1967D2;\n",
              "      height: 32px;\n",
              "      padding: 0 0 0 0;\n",
              "      width: 32px;\n",
              "    }\n",
              "\n",
              "    .colab-df-convert:hover {\n",
              "      background-color: #E2EBFA;\n",
              "      box-shadow: 0px 1px 2px rgba(60, 64, 67, 0.3), 0px 1px 3px 1px rgba(60, 64, 67, 0.15);\n",
              "      fill: #174EA6;\n",
              "    }\n",
              "\n",
              "    [theme=dark] .colab-df-convert {\n",
              "      background-color: #3B4455;\n",
              "      fill: #D2E3FC;\n",
              "    }\n",
              "\n",
              "    [theme=dark] .colab-df-convert:hover {\n",
              "      background-color: #434B5C;\n",
              "      box-shadow: 0px 1px 3px 1px rgba(0, 0, 0, 0.15);\n",
              "      filter: drop-shadow(0px 1px 2px rgba(0, 0, 0, 0.3));\n",
              "      fill: #FFFFFF;\n",
              "    }\n",
              "  </style>\n",
              "\n",
              "      <script>\n",
              "        const buttonEl =\n",
              "          document.querySelector('#df-c77232d9-1f27-4d5e-9e7f-bacf4763052b button.colab-df-convert');\n",
              "        buttonEl.style.display =\n",
              "          google.colab.kernel.accessAllowed ? 'block' : 'none';\n",
              "\n",
              "        async function convertToInteractive(key) {\n",
              "          const element = document.querySelector('#df-c77232d9-1f27-4d5e-9e7f-bacf4763052b');\n",
              "          const dataTable =\n",
              "            await google.colab.kernel.invokeFunction('convertToInteractive',\n",
              "                                                     [key], {});\n",
              "          if (!dataTable) return;\n",
              "\n",
              "          const docLinkHtml = 'Like what you see? Visit the ' +\n",
              "            '<a target=\"_blank\" href=https://colab.research.google.com/notebooks/data_table.ipynb>data table notebook</a>'\n",
              "            + ' to learn more about interactive tables.';\n",
              "          element.innerHTML = '';\n",
              "          dataTable['output_type'] = 'display_data';\n",
              "          await google.colab.output.renderOutput(dataTable, element);\n",
              "          const docLink = document.createElement('div');\n",
              "          docLink.innerHTML = docLinkHtml;\n",
              "          element.appendChild(docLink);\n",
              "        }\n",
              "      </script>\n",
              "    </div>\n",
              "  </div>\n",
              "  "
            ],
            "text/plain": [
              "                                           title1_en  \\\n",
              "0  There are two new old-age insurance benefits f...   \n",
              "1  \"If you do not come to Shenzhen, sooner or lat...   \n",
              "2  \"If you do not come to Shenzhen, sooner or lat...   \n",
              "\n",
              "                                           title2_en      label  \n",
              "0  Police disprove \"bird's nest congress each per...  unrelated  \n",
              "1  Shenzhen's GDP outstrips Hong Kong? Shenzhen S...  unrelated  \n",
              "2  The GDP overtopped Hong Kong? Shenzhen clarifi...  unrelated  "
            ]
          },
          "execution_count": 102,
          "metadata": {},
          "output_type": "execute_result"
        }
      ],
      "source": [
        "train.head(3)"
      ]
    },
    {
      "cell_type": "code",
      "execution_count": null,
      "metadata": {
        "colab": {
          "base_uri": "https://localhost:8080/"
        },
        "id": "5uvoQunAYhi3",
        "outputId": "f85d830a-3a62-4842-d7bf-1f3e924dd3d5"
      },
      "outputs": [
        {
          "data": {
            "text/plain": [
              "title1_en    0\n",
              "title2_en    0\n",
              "label        0\n",
              "dtype: int64"
            ]
          },
          "execution_count": 103,
          "metadata": {},
          "output_type": "execute_result"
        }
      ],
      "source": [
        "train.isnull().sum()"
      ]
    },
    {
      "cell_type": "code",
      "execution_count": null,
      "metadata": {
        "colab": {
          "base_uri": "https://localhost:8080/",
          "height": 351
        },
        "id": "vBDoDFqgYlnA",
        "outputId": "caf80e20-67e1-4823-ac31-3ecf28903a6c"
      },
      "outputs": [
        {
          "name": "stderr",
          "output_type": "stream",
          "text": [
            "/usr/local/lib/python3.7/dist-packages/seaborn/_decorators.py:43: FutureWarning: Pass the following variable as a keyword arg: x. From version 0.12, the only valid positional argument will be `data`, and passing other arguments without an explicit keyword will result in an error or misinterpretation.\n",
            "  FutureWarning\n"
          ]
        },
        {
          "data": {
            "text/plain": [
              "<matplotlib.axes._subplots.AxesSubplot at 0x7f2285dda3d0>"
            ]
          },
          "execution_count": 104,
          "metadata": {},
          "output_type": "execute_result"
        },
        {
          "data": {
            "image/png": "[encoded data removed]",
            "text/plain": [
              "<Figure size 432x288 with 1 Axes>"
            ]
          },
          "metadata": {},
          "output_type": "display_data"
        }
      ],
      "source": [
        "sns.set_style(\"whitegrid\")\n",
        "sns.countplot(train['label'])"
      ]
    },
    {
      "cell_type": "code",
      "execution_count": null,
      "metadata": {
        "colab": {
          "base_uri": "https://localhost:8080/",
          "height": 424
        },
        "id": "pXq6_t0lZPsZ",
        "outputId": "d545f9fb-6f4b-46b8-f279-14ef9a618ef4"
      },
      "outputs": [
        {
          "data": {
            "text/html": [
              "\n",
              "  <div id=\"df-961f96e2-4d40-46b8-b6b8-d365cf815aa3\">\n",
              "    <div class=\"colab-df-container\">\n",
              "      <div>\n",
              "<style scoped>\n",
              "    .dataframe tbody tr th:only-of-type {\n",
              "        vertical-align: middle;\n",
              "    }\n",
              "\n",
              "    .dataframe tbody tr th {\n",
              "        vertical-align: top;\n",
              "    }\n",
              "\n",
              "    .dataframe thead th {\n",
              "        text-align: right;\n",
              "    }\n",
              "</style>\n",
              "<table border=\"1\" class=\"dataframe\">\n",
              "  <thead>\n",
              "    <tr style=\"text-align: right;\">\n",
              "      <th></th>\n",
              "      <th>title1_en</th>\n",
              "      <th>title2_en</th>\n",
              "      <th>label</th>\n",
              "    </tr>\n",
              "  </thead>\n",
              "  <tbody>\n",
              "    <tr>\n",
              "      <th>0</th>\n",
              "      <td>There are two new old-age insurance benefits f...</td>\n",
              "      <td>Police disprove \"bird's nest congress each per...</td>\n",
              "      <td>unrelated</td>\n",
              "    </tr>\n",
              "    <tr>\n",
              "      <th>1</th>\n",
              "      <td>\"If you do not come to Shenzhen, sooner or lat...</td>\n",
              "      <td>Shenzhen's GDP outstrips Hong Kong? Shenzhen S...</td>\n",
              "      <td>unrelated</td>\n",
              "    </tr>\n",
              "    <tr>\n",
              "      <th>2</th>\n",
              "      <td>\"If you do not come to Shenzhen, sooner or lat...</td>\n",
              "      <td>The GDP overtopped Hong Kong? Shenzhen clarifi...</td>\n",
              "      <td>unrelated</td>\n",
              "    </tr>\n",
              "    <tr>\n",
              "      <th>3</th>\n",
              "      <td>\"If you do not come to Shenzhen, sooner or lat...</td>\n",
              "      <td>Shenzhen's GDP topped Hong Kong last year? She...</td>\n",
              "      <td>unrelated</td>\n",
              "    </tr>\n",
              "    <tr>\n",
              "      <th>4</th>\n",
              "      <td>\"How to discriminate oil from gutter oil by me...</td>\n",
              "      <td>It took 30 years of cooking oil to know that o...</td>\n",
              "      <td>agreed</td>\n",
              "    </tr>\n",
              "    <tr>\n",
              "      <th>...</th>\n",
              "      <td>...</td>\n",
              "      <td>...</td>\n",
              "      <td>...</td>\n",
              "    </tr>\n",
              "    <tr>\n",
              "      <th>320547</th>\n",
              "      <td>egypt 's presidential election failed to win m...</td>\n",
              "      <td>West Media Exposing Tallahlach has been recomm...</td>\n",
              "      <td>unrelated</td>\n",
              "    </tr>\n",
              "    <tr>\n",
              "      <th>320548</th>\n",
              "      <td>egypt 's presidential election failed to win m...</td>\n",
              "      <td>Salah agent's dishonest rumour: rumour with ba...</td>\n",
              "      <td>unrelated</td>\n",
              "    </tr>\n",
              "    <tr>\n",
              "      <th>320549</th>\n",
              "      <td>egypt 's presidential election failed to win m...</td>\n",
              "      <td>Rumor has it that Egypt is very united and the...</td>\n",
              "      <td>unrelated</td>\n",
              "    </tr>\n",
              "    <tr>\n",
              "      <th>320550</th>\n",
              "      <td>egypt 's presidential election failed to win m...</td>\n",
              "      <td>False rumors, Egypt Football Association Chair...</td>\n",
              "      <td>unrelated</td>\n",
              "    </tr>\n",
              "    <tr>\n",
              "      <th>320551</th>\n",
              "      <td>Will the United States wage war on Iraq withou...</td>\n",
              "      <td>Saddam's daughter refutes rumors: no. 2 of Sad...</td>\n",
              "      <td>unrelated</td>\n",
              "    </tr>\n",
              "  </tbody>\n",
              "</table>\n",
              "<p>320552 rows × 3 columns</p>\n",
              "</div>\n",
              "      <button class=\"colab-df-convert\" onclick=\"convertToInteractive('df-961f96e2-4d40-46b8-b6b8-d365cf815aa3')\"\n",
              "              title=\"Convert this dataframe to an interactive table.\"\n",
              "              style=\"display:none;\">\n",
              "        \n",
              "  <svg xmlns=\"http://www.w3.org/2000/svg\" height=\"24px\"viewBox=\"0 0 24 24\"\n",
              "       width=\"24px\">\n",
              "    <path d=\"M0 0h24v24H0V0z\" fill=\"none\"/>\n",
              "    <path d=\"M18.56 5.44l.94 2.06.94-2.06 2.06-.94-2.06-.94-.94-2.06-.94 2.06-2.06.94zm-11 1L8.5 8.5l.94-2.06 2.06-.94-2.06-.94L8.5 2.5l-.94 2.06-2.06.94zm10 10l.94 2.06.94-2.06 2.06-.94-2.06-.94-.94-2.06-.94 2.06-2.06.94z\"/><path d=\"M17.41 7.96l-1.37-1.37c-.4-.4-.92-.59-1.43-.59-.52 0-1.04.2-1.43.59L10.3 9.45l-7.72 7.72c-.78.78-.78 2.05 0 2.83L4 21.41c.39.39.9.59 1.41.59.51 0 1.02-.2 1.41-.59l7.78-7.78 2.81-2.81c.8-.78.8-2.07 0-2.86zM5.41 20L4 18.59l7.72-7.72 1.47 1.35L5.41 20z\"/>\n",
              "  </svg>\n",
              "      </button>\n",
              "      \n",
              "  <style>\n",
              "    .colab-df-container {\n",
              "      display:flex;\n",
              "      flex-wrap:wrap;\n",
              "      gap: 12px;\n",
              "    }\n",
              "\n",
              "    .colab-df-convert {\n",
              "      background-color: #E8F0FE;\n",
              "      border: none;\n",
              "      border-radius: 50%;\n",
              "      cursor: pointer;\n",
              "      display: none;\n",
              "      fill: #1967D2;\n",
              "      height: 32px;\n",
              "      padding: 0 0 0 0;\n",
              "      width: 32px;\n",
              "    }\n",
              "\n",
              "    .colab-df-convert:hover {\n",
              "      background-color: #E2EBFA;\n",
              "      box-shadow: 0px 1px 2px rgba(60, 64, 67, 0.3), 0px 1px 3px 1px rgba(60, 64, 67, 0.15);\n",
              "      fill: #174EA6;\n",
              "    }\n",
              "\n",
              "    [theme=dark] .colab-df-convert {\n",
              "      background-color: #3B4455;\n",
              "      fill: #D2E3FC;\n",
              "    }\n",
              "\n",
              "    [theme=dark] .colab-df-convert:hover {\n",
              "      background-color: #434B5C;\n",
              "      box-shadow: 0px 1px 3px 1px rgba(0, 0, 0, 0.15);\n",
              "      filter: drop-shadow(0px 1px 2px rgba(0, 0, 0, 0.3));\n",
              "      fill: #FFFFFF;\n",
              "    }\n",
              "  </style>\n",
              "\n",
              "      <script>\n",
              "        const buttonEl =\n",
              "          document.querySelector('#df-961f96e2-4d40-46b8-b6b8-d365cf815aa3 button.colab-df-convert');\n",
              "        buttonEl.style.display =\n",
              "          google.colab.kernel.accessAllowed ? 'block' : 'none';\n",
              "\n",
              "        async function convertToInteractive(key) {\n",
              "          const element = document.querySelector('#df-961f96e2-4d40-46b8-b6b8-d365cf815aa3');\n",
              "          const dataTable =\n",
              "            await google.colab.kernel.invokeFunction('convertToInteractive',\n",
              "                                                     [key], {});\n",
              "          if (!dataTable) return;\n",
              "\n",
              "          const docLinkHtml = 'Like what you see? Visit the ' +\n",
              "            '<a target=\"_blank\" href=https://colab.research.google.com/notebooks/data_table.ipynb>data table notebook</a>'\n",
              "            + ' to learn more about interactive tables.';\n",
              "          element.innerHTML = '';\n",
              "          dataTable['output_type'] = 'display_data';\n",
              "          await google.colab.output.renderOutput(dataTable, element);\n",
              "          const docLink = document.createElement('div');\n",
              "          docLink.innerHTML = docLinkHtml;\n",
              "          element.appendChild(docLink);\n",
              "        }\n",
              "      </script>\n",
              "    </div>\n",
              "  </div>\n",
              "  "
            ],
            "text/plain": [
              "                                                title1_en  \\\n",
              "0       There are two new old-age insurance benefits f...   \n",
              "1       \"If you do not come to Shenzhen, sooner or lat...   \n",
              "2       \"If you do not come to Shenzhen, sooner or lat...   \n",
              "3       \"If you do not come to Shenzhen, sooner or lat...   \n",
              "4       \"How to discriminate oil from gutter oil by me...   \n",
              "...                                                   ...   \n",
              "320547  egypt 's presidential election failed to win m...   \n",
              "320548  egypt 's presidential election failed to win m...   \n",
              "320549  egypt 's presidential election failed to win m...   \n",
              "320550  egypt 's presidential election failed to win m...   \n",
              "320551  Will the United States wage war on Iraq withou...   \n",
              "\n",
              "                                                title2_en      label  \n",
              "0       Police disprove \"bird's nest congress each per...  unrelated  \n",
              "1       Shenzhen's GDP outstrips Hong Kong? Shenzhen S...  unrelated  \n",
              "2       The GDP overtopped Hong Kong? Shenzhen clarifi...  unrelated  \n",
              "3       Shenzhen's GDP topped Hong Kong last year? She...  unrelated  \n",
              "4       It took 30 years of cooking oil to know that o...     agreed  \n",
              "...                                                   ...        ...  \n",
              "320547  West Media Exposing Tallahlach has been recomm...  unrelated  \n",
              "320548  Salah agent's dishonest rumour: rumour with ba...  unrelated  \n",
              "320549  Rumor has it that Egypt is very united and the...  unrelated  \n",
              "320550  False rumors, Egypt Football Association Chair...  unrelated  \n",
              "320551  Saddam's daughter refutes rumors: no. 2 of Sad...  unrelated  \n",
              "\n",
              "[320552 rows x 3 columns]"
            ]
          },
          "execution_count": 105,
          "metadata": {},
          "output_type": "execute_result"
        }
      ],
      "source": [
        "train.dropna()"
      ]
    },
    {
      "cell_type": "code",
      "execution_count": null,
      "metadata": {
        "colab": {
          "base_uri": "https://localhost:8080/",
          "height": 708
        },
        "id": "tM3yRYk8ZdcQ",
        "outputId": "e41ac2e2-f25e-4d1c-98b6-4599d7b29192"
      },
      "outputs": [
        {
          "data": {
            "image/png": "[encoded data removed]",
            "text/plain": [
              "<Figure size 1080x864 with 1 Axes>"
            ]
          },
          "metadata": {},
          "output_type": "display_data"
        }
      ],
      "source": [
        "train['label'].value_counts().plot.pie(figsize = (15,12), startangle = 75,autopct = \"%.1f%%\",shadow=True)\n",
        "plt.title('Type of labels', fontsize = 25)\n",
        "plt.axis('off')\n",
        "plt.legend()\n",
        "plt.show()"
      ]
    },
    {
      "cell_type": "code",
      "execution_count": null,
      "metadata": {
        "colab": {
          "base_uri": "https://localhost:8080/",
          "height": 279
        },
        "id": "EQ7_KGb8Zsme",
        "outputId": "686d78c9-0174-4ab8-acf1-9abc6e0f2d9f"
      },
      "outputs": [
        {
          "data": {
            "image/png": "[encoded data removed]",
            "text/plain": [
              "<Figure size 432x288 with 1 Axes>"
            ]
          },
          "metadata": {},
          "output_type": "display_data"
        }
      ],
      "source": [
        "TrainDF['rawTextLengthTitle1'] = train['title1_en'].apply(lambda x: 0 if pd.isna(x) else len(x))\n",
        "sns.boxplot(y='rawTextLengthTitle1', x='label', data=TrainDF)\n",
        "plt.show()"
      ]
    },
    {
      "cell_type": "code",
      "execution_count": null,
      "metadata": {
        "colab": {
          "base_uri": "https://localhost:8080/",
          "height": 279
        },
        "id": "3urrvuuiaNaa",
        "outputId": "a10a81fd-7792-45fe-915a-ee1653adc0ee"
      },
      "outputs": [
        {
          "data": {
            "image/png": "[encoded data removed]",
            "text/plain": [
              "<Figure size 432x288 with 1 Axes>"
            ]
          },
          "metadata": {},
          "output_type": "display_data"
        }
      ],
      "source": [
        "TrainDF['rawTextLengthTitle2'] = train['title2_en'].apply(lambda x: 0 if pd.isna(x) else len(x))\n",
        "sns.boxplot(y='rawTextLengthTitle2', x='label', data=TrainDF, palette=\"Set1_r\")\n",
        "plt.show()"
      ]
    },
    {
      "cell_type": "code",
      "execution_count": null,
      "metadata": {
        "id": "f-MkRB2eaoHT"
      },
      "outputs": [],
      "source": [
        "def preprocessing(documents):\n",
        "    for document in documents.columns:\n",
        "        documents[document] = documents[document].replace(r'[^\\w\\s]+', '')\n",
        "        documents[document] = documents[document].apply(lambda doc:  re.sub(r'\\s+[a-zA-Z]\\s+', ' ', str(doc)))\n",
        "        documents[document] = documents[document].apply(lambda doc:  re.sub(r'\\s+[a-zA-Z]\\s+', ' ', str(doc)))\n",
        "        documents[document] = documents[document].apply(lambda doc:  re.sub(r'\\s+', ' ', str(doc) , flags=re.I))\n",
        "        documents[document] = documents[document].apply(lambda doc: doc.strip())\n",
        "        documents[document] = documents[document].apply(lambda doc: doc.lower())\n",
        "        documents[document] = documents[document].apply(lambda doc: doc.replace('\\n', ''))\n",
        "        "
      ]
    },
    {
      "cell_type": "code",
      "execution_count": null,
      "metadata": {
        "id": "0VC4OoZRbAco"
      },
      "outputs": [],
      "source": [
        "preprocessing(train)  "
      ]
    },
    {
      "cell_type": "code",
      "execution_count": null,
      "metadata": {
        "colab": {
          "base_uri": "https://localhost:8080/",
          "height": 424
        },
        "id": "lAmlkIt4dPlV",
        "outputId": "8963c3ef-b1e3-42e2-a4a0-18c3c73f13c0"
      },
      "outputs": [
        {
          "data": {
            "text/html": [
              "\n",
              "  <div id=\"df-62712b8a-6c17-43d5-aad4-7d70ddd77cab\">\n",
              "    <div class=\"colab-df-container\">\n",
              "      <div>\n",
              "<style scoped>\n",
              "    .dataframe tbody tr th:only-of-type {\n",
              "        vertical-align: middle;\n",
              "    }\n",
              "\n",
              "    .dataframe tbody tr th {\n",
              "        vertical-align: top;\n",
              "    }\n",
              "\n",
              "    .dataframe thead th {\n",
              "        text-align: right;\n",
              "    }\n",
              "</style>\n",
              "<table border=\"1\" class=\"dataframe\">\n",
              "  <thead>\n",
              "    <tr style=\"text-align: right;\">\n",
              "      <th></th>\n",
              "      <th>title1_en</th>\n",
              "      <th>title2_en</th>\n",
              "      <th>label</th>\n",
              "    </tr>\n",
              "  </thead>\n",
              "  <tbody>\n",
              "    <tr>\n",
              "      <th>0</th>\n",
              "      <td>there are two new old-age insurance benefits f...</td>\n",
              "      <td>police disprove \"bird's nest congress each per...</td>\n",
              "      <td>unrelated</td>\n",
              "    </tr>\n",
              "    <tr>\n",
              "      <th>1</th>\n",
              "      <td>\"if you do not come to shenzhen, sooner or lat...</td>\n",
              "      <td>shenzhen's gdp outstrips hong kong? shenzhen s...</td>\n",
              "      <td>unrelated</td>\n",
              "    </tr>\n",
              "    <tr>\n",
              "      <th>2</th>\n",
              "      <td>\"if you do not come to shenzhen, sooner or lat...</td>\n",
              "      <td>the gdp overtopped hong kong? shenzhen clarifi...</td>\n",
              "      <td>unrelated</td>\n",
              "    </tr>\n",
              "    <tr>\n",
              "      <th>3</th>\n",
              "      <td>\"if you do not come to shenzhen, sooner or lat...</td>\n",
              "      <td>shenzhen's gdp topped hong kong last year? she...</td>\n",
              "      <td>unrelated</td>\n",
              "    </tr>\n",
              "    <tr>\n",
              "      <th>4</th>\n",
              "      <td>\"how to discriminate oil from gutter oil by me...</td>\n",
              "      <td>it took 30 years of cooking oil to know that o...</td>\n",
              "      <td>agreed</td>\n",
              "    </tr>\n",
              "    <tr>\n",
              "      <th>...</th>\n",
              "      <td>...</td>\n",
              "      <td>...</td>\n",
              "      <td>...</td>\n",
              "    </tr>\n",
              "    <tr>\n",
              "      <th>320547</th>\n",
              "      <td>egypt 's presidential election failed to win m...</td>\n",
              "      <td>west media exposing tallahlach has been recomm...</td>\n",
              "      <td>unrelated</td>\n",
              "    </tr>\n",
              "    <tr>\n",
              "      <th>320548</th>\n",
              "      <td>egypt 's presidential election failed to win m...</td>\n",
              "      <td>salah agent's dishonest rumour: rumour with ba...</td>\n",
              "      <td>unrelated</td>\n",
              "    </tr>\n",
              "    <tr>\n",
              "      <th>320549</th>\n",
              "      <td>egypt 's presidential election failed to win m...</td>\n",
              "      <td>rumor has it that egypt is very united and the...</td>\n",
              "      <td>unrelated</td>\n",
              "    </tr>\n",
              "    <tr>\n",
              "      <th>320550</th>\n",
              "      <td>egypt 's presidential election failed to win m...</td>\n",
              "      <td>false rumors, egypt football association chair...</td>\n",
              "      <td>unrelated</td>\n",
              "    </tr>\n",
              "    <tr>\n",
              "      <th>320551</th>\n",
              "      <td>will the united states wage war on iraq withou...</td>\n",
              "      <td>saddam's daughter refutes rumors: no. 2 of sad...</td>\n",
              "      <td>unrelated</td>\n",
              "    </tr>\n",
              "  </tbody>\n",
              "</table>\n",
              "<p>320552 rows × 3 columns</p>\n",
              "</div>\n",
              "      <button class=\"colab-df-convert\" onclick=\"convertToInteractive('df-62712b8a-6c17-43d5-aad4-7d70ddd77cab')\"\n",
              "              title=\"Convert this dataframe to an interactive table.\"\n",
              "              style=\"display:none;\">\n",
              "        \n",
              "  <svg xmlns=\"http://www.w3.org/2000/svg\" height=\"24px\"viewBox=\"0 0 24 24\"\n",
              "       width=\"24px\">\n",
              "    <path d=\"M0 0h24v24H0V0z\" fill=\"none\"/>\n",
              "    <path d=\"M18.56 5.44l.94 2.06.94-2.06 2.06-.94-2.06-.94-.94-2.06-.94 2.06-2.06.94zm-11 1L8.5 8.5l.94-2.06 2.06-.94-2.06-.94L8.5 2.5l-.94 2.06-2.06.94zm10 10l.94 2.06.94-2.06 2.06-.94-2.06-.94-.94-2.06-.94 2.06-2.06.94z\"/><path d=\"M17.41 7.96l-1.37-1.37c-.4-.4-.92-.59-1.43-.59-.52 0-1.04.2-1.43.59L10.3 9.45l-7.72 7.72c-.78.78-.78 2.05 0 2.83L4 21.41c.39.39.9.59 1.41.59.51 0 1.02-.2 1.41-.59l7.78-7.78 2.81-2.81c.8-.78.8-2.07 0-2.86zM5.41 20L4 18.59l7.72-7.72 1.47 1.35L5.41 20z\"/>\n",
              "  </svg>\n",
              "      </button>\n",
              "      \n",
              "  <style>\n",
              "    .colab-df-container {\n",
              "      display:flex;\n",
              "      flex-wrap:wrap;\n",
              "      gap: 12px;\n",
              "    }\n",
              "\n",
              "    .colab-df-convert {\n",
              "      background-color: #E8F0FE;\n",
              "      border: none;\n",
              "      border-radius: 50%;\n",
              "      cursor: pointer;\n",
              "      display: none;\n",
              "      fill: #1967D2;\n",
              "      height: 32px;\n",
              "      padding: 0 0 0 0;\n",
              "      width: 32px;\n",
              "    }\n",
              "\n",
              "    .colab-df-convert:hover {\n",
              "      background-color: #E2EBFA;\n",
              "      box-shadow: 0px 1px 2px rgba(60, 64, 67, 0.3), 0px 1px 3px 1px rgba(60, 64, 67, 0.15);\n",
              "      fill: #174EA6;\n",
              "    }\n",
              "\n",
              "    [theme=dark] .colab-df-convert {\n",
              "      background-color: #3B4455;\n",
              "      fill: #D2E3FC;\n",
              "    }\n",
              "\n",
              "    [theme=dark] .colab-df-convert:hover {\n",
              "      background-color: #434B5C;\n",
              "      box-shadow: 0px 1px 3px 1px rgba(0, 0, 0, 0.15);\n",
              "      filter: drop-shadow(0px 1px 2px rgba(0, 0, 0, 0.3));\n",
              "      fill: #FFFFFF;\n",
              "    }\n",
              "  </style>\n",
              "\n",
              "      <script>\n",
              "        const buttonEl =\n",
              "          document.querySelector('#df-62712b8a-6c17-43d5-aad4-7d70ddd77cab button.colab-df-convert');\n",
              "        buttonEl.style.display =\n",
              "          google.colab.kernel.accessAllowed ? 'block' : 'none';\n",
              "\n",
              "        async function convertToInteractive(key) {\n",
              "          const element = document.querySelector('#df-62712b8a-6c17-43d5-aad4-7d70ddd77cab');\n",
              "          const dataTable =\n",
              "            await google.colab.kernel.invokeFunction('convertToInteractive',\n",
              "                                                     [key], {});\n",
              "          if (!dataTable) return;\n",
              "\n",
              "          const docLinkHtml = 'Like what you see? Visit the ' +\n",
              "            '<a target=\"_blank\" href=https://colab.research.google.com/notebooks/data_table.ipynb>data table notebook</a>'\n",
              "            + ' to learn more about interactive tables.';\n",
              "          element.innerHTML = '';\n",
              "          dataTable['output_type'] = 'display_data';\n",
              "          await google.colab.output.renderOutput(dataTable, element);\n",
              "          const docLink = document.createElement('div');\n",
              "          docLink.innerHTML = docLinkHtml;\n",
              "          element.appendChild(docLink);\n",
              "        }\n",
              "      </script>\n",
              "    </div>\n",
              "  </div>\n",
              "  "
            ],
            "text/plain": [
              "                                                title1_en  \\\n",
              "0       there are two new old-age insurance benefits f...   \n",
              "1       \"if you do not come to shenzhen, sooner or lat...   \n",
              "2       \"if you do not come to shenzhen, sooner or lat...   \n",
              "3       \"if you do not come to shenzhen, sooner or lat...   \n",
              "4       \"how to discriminate oil from gutter oil by me...   \n",
              "...                                                   ...   \n",
              "320547  egypt 's presidential election failed to win m...   \n",
              "320548  egypt 's presidential election failed to win m...   \n",
              "320549  egypt 's presidential election failed to win m...   \n",
              "320550  egypt 's presidential election failed to win m...   \n",
              "320551  will the united states wage war on iraq withou...   \n",
              "\n",
              "                                                title2_en      label  \n",
              "0       police disprove \"bird's nest congress each per...  unrelated  \n",
              "1       shenzhen's gdp outstrips hong kong? shenzhen s...  unrelated  \n",
              "2       the gdp overtopped hong kong? shenzhen clarifi...  unrelated  \n",
              "3       shenzhen's gdp topped hong kong last year? she...  unrelated  \n",
              "4       it took 30 years of cooking oil to know that o...     agreed  \n",
              "...                                                   ...        ...  \n",
              "320547  west media exposing tallahlach has been recomm...  unrelated  \n",
              "320548  salah agent's dishonest rumour: rumour with ba...  unrelated  \n",
              "320549  rumor has it that egypt is very united and the...  unrelated  \n",
              "320550  false rumors, egypt football association chair...  unrelated  \n",
              "320551  saddam's daughter refutes rumors: no. 2 of sad...  unrelated  \n",
              "\n",
              "[320552 rows x 3 columns]"
            ]
          },
          "execution_count": 111,
          "metadata": {},
          "output_type": "execute_result"
        }
      ],
      "source": [
        "train"
      ]
    },
    {
      "cell_type": "code",
      "execution_count": null,
      "metadata": {
        "colab": {
          "base_uri": "https://localhost:8080/"
        },
        "id": "wGBqZwPQeJtT",
        "outputId": "898fa54c-18d2-4831-b61b-e1a3224beb5a"
      },
      "outputs": [
        {
          "name": "stdout",
          "output_type": "stream",
          "text": [
            "[nltk_data] Downloading package stopwords to /root/nltk_data...\n",
            "[nltk_data]   Unzipping corpora/stopwords.zip.\n",
            "[nltk_data] Downloading package punkt to /root/nltk_data...\n",
            "[nltk_data]   Unzipping tokenizers/punkt.zip.\n",
            "[nltk_data] Downloading package wordnet to /root/nltk_data...\n",
            "[nltk_data]   Unzipping corpora/wordnet.zip.\n",
            "[nltk_data] Downloading package omw-1.4 to /root/nltk_data...\n",
            "[nltk_data]   Unzipping corpora/omw-1.4.zip.\n"
          ]
        },
        {
          "data": {
            "text/plain": [
              "True"
            ]
          },
          "execution_count": 18,
          "metadata": {},
          "output_type": "execute_result"
        }
      ],
      "source": [
        "nltk.download('stopwords')\n",
        "nltk.download('punkt');\n",
        "nltk.download('wordnet');\n",
        "nltk.download('omw-1.4')"
      ]
    },
    {
      "cell_type": "code",
      "execution_count": null,
      "metadata": {
        "id": "C7S9alVjeXan"
      },
      "outputs": [],
      "source": [
        "stopWords = stopwords.words('english')"
      ]
    },
    {
      "cell_type": "code",
      "execution_count": null,
      "metadata": {
        "colab": {
          "base_uri": "https://localhost:8080/"
        },
        "id": "o7rFxB9QeaFS",
        "outputId": "9084b9dc-70de-4cce-9eb0-77ff2f7b6a2a"
      },
      "outputs": [
        {
          "data": {
            "text/plain": [
              "['i',\n",
              " 'me',\n",
              " 'my',\n",
              " 'myself',\n",
              " 'we',\n",
              " 'our',\n",
              " 'ours',\n",
              " 'ourselves',\n",
              " 'you',\n",
              " \"you're\",\n",
              " \"you've\",\n",
              " \"you'll\",\n",
              " \"you'd\",\n",
              " 'your',\n",
              " 'yours',\n",
              " 'yourself',\n",
              " 'yourselves',\n",
              " 'he',\n",
              " 'him',\n",
              " 'his']"
            ]
          },
          "execution_count": 115,
          "metadata": {},
          "output_type": "execute_result"
        }
      ],
      "source": [
        "stopWords[:20]"
      ]
    },
    {
      "cell_type": "code",
      "execution_count": null,
      "metadata": {
        "id": "XdqmURpLedjb"
      },
      "outputs": [],
      "source": [
        "def removingStopWords(documents):\n",
        "    print(documents.columns)\n",
        "    for document in documents.columns:\n",
        "        documents[document] = documents[document].apply(lambda x: ' '.join([word for word in x.split() if word not in (stopWords)]))\n",
        "        "
      ]
    },
    {
      "cell_type": "code",
      "execution_count": null,
      "metadata": {
        "colab": {
          "base_uri": "https://localhost:8080/"
        },
        "id": "SXt7fxn8ef7Y",
        "outputId": "70d5bb4f-0333-431e-b77a-fad8e9952890"
      },
      "outputs": [
        {
          "name": "stdout",
          "output_type": "stream",
          "text": [
            "Index(['title1_en', 'title2_en', 'label'], dtype='object')\n"
          ]
        }
      ],
      "source": [
        "removingStopWords(train)"
      ]
    },
    {
      "cell_type": "code",
      "execution_count": null,
      "metadata": {
        "colab": {
          "base_uri": "https://localhost:8080/",
          "height": 424
        },
        "id": "o5a_GmNrej6G",
        "outputId": "893c88ad-93ef-4734-9312-faba3d46c79c"
      },
      "outputs": [
        {
          "data": {
            "text/html": [
              "\n",
              "  <div id=\"df-2938bca0-7072-4004-93a2-4e82402f9dcb\">\n",
              "    <div class=\"colab-df-container\">\n",
              "      <div>\n",
              "<style scoped>\n",
              "    .dataframe tbody tr th:only-of-type {\n",
              "        vertical-align: middle;\n",
              "    }\n",
              "\n",
              "    .dataframe tbody tr th {\n",
              "        vertical-align: top;\n",
              "    }\n",
              "\n",
              "    .dataframe thead th {\n",
              "        text-align: right;\n",
              "    }\n",
              "</style>\n",
              "<table border=\"1\" class=\"dataframe\">\n",
              "  <thead>\n",
              "    <tr style=\"text-align: right;\">\n",
              "      <th></th>\n",
              "      <th>title1_en</th>\n",
              "      <th>title2_en</th>\n",
              "      <th>label</th>\n",
              "    </tr>\n",
              "  </thead>\n",
              "  <tbody>\n",
              "    <tr>\n",
              "      <th>0</th>\n",
              "      <td>two new old-age insurance benefits old people ...</td>\n",
              "      <td>police disprove \"bird's nest congress person g...</td>\n",
              "      <td>unrelated</td>\n",
              "    </tr>\n",
              "    <tr>\n",
              "      <th>1</th>\n",
              "      <td>\"if come shenzhen, sooner later son also come....</td>\n",
              "      <td>shenzhen's gdp outstrips hong kong? shenzhen s...</td>\n",
              "      <td>unrelated</td>\n",
              "    </tr>\n",
              "    <tr>\n",
              "      <th>2</th>\n",
              "      <td>\"if come shenzhen, sooner later son also come....</td>\n",
              "      <td>gdp overtopped hong kong? shenzhen clarified: ...</td>\n",
              "      <td>unrelated</td>\n",
              "    </tr>\n",
              "    <tr>\n",
              "      <th>3</th>\n",
              "      <td>\"if come shenzhen, sooner later son also come....</td>\n",
              "      <td>shenzhen's gdp topped hong kong last year? she...</td>\n",
              "      <td>unrelated</td>\n",
              "    </tr>\n",
              "    <tr>\n",
              "      <th>4</th>\n",
              "      <td>\"how discriminate oil gutter oil means garlic.</td>\n",
              "      <td>took 30 years cooking oil know one piece garli...</td>\n",
              "      <td>agreed</td>\n",
              "    </tr>\n",
              "    <tr>\n",
              "      <th>...</th>\n",
              "      <td>...</td>\n",
              "      <td>...</td>\n",
              "      <td>...</td>\n",
              "    </tr>\n",
              "    <tr>\n",
              "      <th>320547</th>\n",
              "      <td>egypt 's presidential election failed win mill...</td>\n",
              "      <td>west media exposing tallahlach recommended bar...</td>\n",
              "      <td>unrelated</td>\n",
              "    </tr>\n",
              "    <tr>\n",
              "      <th>320548</th>\n",
              "      <td>egypt 's presidential election failed win mill...</td>\n",
              "      <td>salah agent's dishonest rumour: rumour barcelona</td>\n",
              "      <td>unrelated</td>\n",
              "    </tr>\n",
              "    <tr>\n",
              "      <th>320549</th>\n",
              "      <td>egypt 's presidential election failed win mill...</td>\n",
              "      <td>rumor egypt united differences us.</td>\n",
              "      <td>unrelated</td>\n",
              "    </tr>\n",
              "    <tr>\n",
              "      <th>320550</th>\n",
              "      <td>egypt 's presidential election failed win mill...</td>\n",
              "      <td>false rumors, egypt football association chair...</td>\n",
              "      <td>unrelated</td>\n",
              "    </tr>\n",
              "    <tr>\n",
              "      <th>320551</th>\n",
              "      <td>united states wage war iraq without destructio...</td>\n",
              "      <td>saddam's daughter refutes rumors: no. 2 saddam...</td>\n",
              "      <td>unrelated</td>\n",
              "    </tr>\n",
              "  </tbody>\n",
              "</table>\n",
              "<p>320552 rows × 3 columns</p>\n",
              "</div>\n",
              "      <button class=\"colab-df-convert\" onclick=\"convertToInteractive('df-2938bca0-7072-4004-93a2-4e82402f9dcb')\"\n",
              "              title=\"Convert this dataframe to an interactive table.\"\n",
              "              style=\"display:none;\">\n",
              "        \n",
              "  <svg xmlns=\"http://www.w3.org/2000/svg\" height=\"24px\"viewBox=\"0 0 24 24\"\n",
              "       width=\"24px\">\n",
              "    <path d=\"M0 0h24v24H0V0z\" fill=\"none\"/>\n",
              "    <path d=\"M18.56 5.44l.94 2.06.94-2.06 2.06-.94-2.06-.94-.94-2.06-.94 2.06-2.06.94zm-11 1L8.5 8.5l.94-2.06 2.06-.94-2.06-.94L8.5 2.5l-.94 2.06-2.06.94zm10 10l.94 2.06.94-2.06 2.06-.94-2.06-.94-.94-2.06-.94 2.06-2.06.94z\"/><path d=\"M17.41 7.96l-1.37-1.37c-.4-.4-.92-.59-1.43-.59-.52 0-1.04.2-1.43.59L10.3 9.45l-7.72 7.72c-.78.78-.78 2.05 0 2.83L4 21.41c.39.39.9.59 1.41.59.51 0 1.02-.2 1.41-.59l7.78-7.78 2.81-2.81c.8-.78.8-2.07 0-2.86zM5.41 20L4 18.59l7.72-7.72 1.47 1.35L5.41 20z\"/>\n",
              "  </svg>\n",
              "      </button>\n",
              "      \n",
              "  <style>\n",
              "    .colab-df-container {\n",
              "      display:flex;\n",
              "      flex-wrap:wrap;\n",
              "      gap: 12px;\n",
              "    }\n",
              "\n",
              "    .colab-df-convert {\n",
              "      background-color: #E8F0FE;\n",
              "      border: none;\n",
              "      border-radius: 50%;\n",
              "      cursor: pointer;\n",
              "      display: none;\n",
              "      fill: #1967D2;\n",
              "      height: 32px;\n",
              "      padding: 0 0 0 0;\n",
              "      width: 32px;\n",
              "    }\n",
              "\n",
              "    .colab-df-convert:hover {\n",
              "      background-color: #E2EBFA;\n",
              "      box-shadow: 0px 1px 2px rgba(60, 64, 67, 0.3), 0px 1px 3px 1px rgba(60, 64, 67, 0.15);\n",
              "      fill: #174EA6;\n",
              "    }\n",
              "\n",
              "    [theme=dark] .colab-df-convert {\n",
              "      background-color: #3B4455;\n",
              "      fill: #D2E3FC;\n",
              "    }\n",
              "\n",
              "    [theme=dark] .colab-df-convert:hover {\n",
              "      background-color: #434B5C;\n",
              "      box-shadow: 0px 1px 3px 1px rgba(0, 0, 0, 0.15);\n",
              "      filter: drop-shadow(0px 1px 2px rgba(0, 0, 0, 0.3));\n",
              "      fill: #FFFFFF;\n",
              "    }\n",
              "  </style>\n",
              "\n",
              "      <script>\n",
              "        const buttonEl =\n",
              "          document.querySelector('#df-2938bca0-7072-4004-93a2-4e82402f9dcb button.colab-df-convert');\n",
              "        buttonEl.style.display =\n",
              "          google.colab.kernel.accessAllowed ? 'block' : 'none';\n",
              "\n",
              "        async function convertToInteractive(key) {\n",
              "          const element = document.querySelector('#df-2938bca0-7072-4004-93a2-4e82402f9dcb');\n",
              "          const dataTable =\n",
              "            await google.colab.kernel.invokeFunction('convertToInteractive',\n",
              "                                                     [key], {});\n",
              "          if (!dataTable) return;\n",
              "\n",
              "          const docLinkHtml = 'Like what you see? Visit the ' +\n",
              "            '<a target=\"_blank\" href=https://colab.research.google.com/notebooks/data_table.ipynb>data table notebook</a>'\n",
              "            + ' to learn more about interactive tables.';\n",
              "          element.innerHTML = '';\n",
              "          dataTable['output_type'] = 'display_data';\n",
              "          await google.colab.output.renderOutput(dataTable, element);\n",
              "          const docLink = document.createElement('div');\n",
              "          docLink.innerHTML = docLinkHtml;\n",
              "          element.appendChild(docLink);\n",
              "        }\n",
              "      </script>\n",
              "    </div>\n",
              "  </div>\n",
              "  "
            ],
            "text/plain": [
              "                                                title1_en  \\\n",
              "0       two new old-age insurance benefits old people ...   \n",
              "1       \"if come shenzhen, sooner later son also come....   \n",
              "2       \"if come shenzhen, sooner later son also come....   \n",
              "3       \"if come shenzhen, sooner later son also come....   \n",
              "4          \"how discriminate oil gutter oil means garlic.   \n",
              "...                                                   ...   \n",
              "320547  egypt 's presidential election failed win mill...   \n",
              "320548  egypt 's presidential election failed win mill...   \n",
              "320549  egypt 's presidential election failed win mill...   \n",
              "320550  egypt 's presidential election failed win mill...   \n",
              "320551  united states wage war iraq without destructio...   \n",
              "\n",
              "                                                title2_en      label  \n",
              "0       police disprove \"bird's nest congress person g...  unrelated  \n",
              "1       shenzhen's gdp outstrips hong kong? shenzhen s...  unrelated  \n",
              "2       gdp overtopped hong kong? shenzhen clarified: ...  unrelated  \n",
              "3       shenzhen's gdp topped hong kong last year? she...  unrelated  \n",
              "4       took 30 years cooking oil know one piece garli...     agreed  \n",
              "...                                                   ...        ...  \n",
              "320547  west media exposing tallahlach recommended bar...  unrelated  \n",
              "320548   salah agent's dishonest rumour: rumour barcelona  unrelated  \n",
              "320549                 rumor egypt united differences us.  unrelated  \n",
              "320550  false rumors, egypt football association chair...  unrelated  \n",
              "320551  saddam's daughter refutes rumors: no. 2 saddam...  unrelated  \n",
              "\n",
              "[320552 rows x 3 columns]"
            ]
          },
          "execution_count": 119,
          "metadata": {},
          "output_type": "execute_result"
        }
      ],
      "source": [
        "train"
      ]
    },
    {
      "cell_type": "code",
      "execution_count": null,
      "metadata": {
        "colab": {
          "base_uri": "https://localhost:8080/"
        },
        "id": "yINYeyD_O6JZ",
        "outputId": "37ebece9-2f30-4f59-fce8-f06ce0b85493"
      },
      "outputs": [
        {
          "name": "stderr",
          "output_type": "stream",
          "text": [
            "Building prefix dict from the default dictionary ...\n",
            "Dumping model to file cache /tmp/jieba.cache\n",
            "Loading model cost 3.108 seconds.\n",
            "Prefix dict has been built successfully.\n"
          ]
        },
        {
          "data": {
            "text/plain": [
              "[pair('There', 'eng'),\n",
              " pair(' ', 'x'),\n",
              " pair('are', 'eng'),\n",
              " pair(' ', 'x'),\n",
              " pair('two', 'eng'),\n",
              " pair(' ', 'x'),\n",
              " pair('new', 'eng'),\n",
              " pair(' ', 'x'),\n",
              " pair('old', 'eng'),\n",
              " pair('-', 'x'),\n",
              " pair('age', 'eng'),\n",
              " pair(' ', 'x'),\n",
              " pair('insurance', 'eng'),\n",
              " pair(' ', 'x'),\n",
              " pair('benefits', 'eng')]"
            ]
          },
          "execution_count": 120,
          "metadata": {},
          "output_type": "execute_result"
        }
      ],
      "source": [
        "text = 'There are two new old-age insurance benefits'\n",
        "TextWords = pseg.cut(text)\n",
        "[TextWords for TextWords in TextWords]"
      ]
    },
    {
      "cell_type": "code",
      "execution_count": null,
      "metadata": {
        "colab": {
          "base_uri": "https://localhost:8080/"
        },
        "id": "s4Wu4UqKPzCF",
        "outputId": "c4b6287d-42fb-4a3d-8997-5954de5570f8"
      },
      "outputs": [
        {
          "name": "stderr",
          "output_type": "stream",
          "text": [
            "<ipython-input-22-e353f0c727d3>:2: SyntaxWarning: assertion is always true, perhaps remove parentheses?\n",
            "  assert((data.index == res.index).all(), 'Data Merge Failed!')\n"
          ]
        }
      ],
      "source": [
        "def MergerFunction(data, res):\n",
        "    assert((data.index == res.index).all(), 'Data Merge Failed!')\n",
        "def MultiProcessing(data, func):\n",
        "    ProcessorCores = partitions = cpu_count()\n",
        "    SplitData = np.array_split(data, partitions)\n",
        "    MultipleJobsPerProcess = Pool(ProcessorCores)\n",
        "    res = pd.concat(MultipleJobsPerProcess.map(func, SplitData))\n",
        "    MultipleJobsPerProcess.close()\n",
        "    MultipleJobsPerProcess.join()\n",
        "    MergerFunction(data, res)\n",
        "    return res\n",
        "def TokenizerFunction(text):\n",
        "    TextWords = pseg.cut(text)\n",
        "    return ' '.join([\n",
        "        TextWords for TextWords, flag in TextWords if flag != 'x'])\n",
        "def TokenProcess(data):\n",
        "    res = data.apply(TokenizerFunction)\n",
        "    return res"
      ]
    },
    {
      "cell_type": "code",
      "execution_count": null,
      "metadata": {
        "colab": {
          "base_uri": "https://localhost:8080/"
        },
        "id": "Tqr5nPkfQJD3",
        "outputId": "8b0038af-b5d0-41d2-d8ef-a3b7d58b9666"
      },
      "outputs": [
        {
          "name": "stdout",
          "output_type": "stream",
          "text": [
            "Training Started!\n"
          ]
        },
        {
          "name": "stderr",
          "output_type": "stream",
          "text": [
            "Building prefix dict from the default dictionary ...\n",
            "Building prefix dict from the default dictionary ...\n",
            "Dumping model to file cache /tmp/jieba.cache\n",
            "Loading model cost 3.764 seconds.\n",
            "Prefix dict has been built successfully.\n",
            "Dumping model to file cache /tmp/jieba.cache\n",
            "Loading model cost 7.201 seconds.\n",
            "Prefix dict has been built successfully.\n",
            "Building prefix dict from the default dictionary ...\n",
            "Loading model from cache /tmp/jieba.cache\n",
            "Building prefix dict from the default dictionary ...\n",
            "Loading model from cache /tmp/jieba.cache\n",
            "Loading model cost 1.508 seconds.\n",
            "Prefix dict has been built successfully.\n",
            "Loading model cost 1.439 seconds.\n",
            "Prefix dict has been built successfully.\n"
          ]
        }
      ],
      "source": [
        "if os.path.exists(TokenTrainCSV):\n",
        "    print(\"Preparing the Tokenized Train Data (CSV)!\")\n",
        "    train = pd.read_csv(TokenTrainCSV, index_col='id')\n",
        "else:\n",
        "    print(\"Training Started!\")\n",
        "    train['title1_tokenized'] = MultiProcessing(train.loc[:, 'title1_en'], TokenProcess)\n",
        "    train['title2_tokenized'] = MultiProcessing(train.loc[:, 'title2_en'], TokenProcess)\n",
        "    train.to_csv('TrainTokens.csv',index=True)"
      ]
    },
    {
      "cell_type": "code",
      "execution_count": null,
      "metadata": {
        "colab": {
          "base_uri": "https://localhost:8080/",
          "height": 363
        },
        "id": "eYFBHGg8d99j",
        "outputId": "18f440aa-96e1-4534-c66d-8cfc6a27a00f"
      },
      "outputs": [
        {
          "data": {
            "text/html": [
              "\n",
              "  <div id=\"df-16ea10c9-6323-447a-915d-cbc88b1d1f24\">\n",
              "    <div class=\"colab-df-container\">\n",
              "      <div>\n",
              "<style scoped>\n",
              "    .dataframe tbody tr th:only-of-type {\n",
              "        vertical-align: middle;\n",
              "    }\n",
              "\n",
              "    .dataframe tbody tr th {\n",
              "        vertical-align: top;\n",
              "    }\n",
              "\n",
              "    .dataframe thead th {\n",
              "        text-align: right;\n",
              "    }\n",
              "</style>\n",
              "<table border=\"1\" class=\"dataframe\">\n",
              "  <thead>\n",
              "    <tr style=\"text-align: right;\">\n",
              "      <th></th>\n",
              "      <th>title1_en</th>\n",
              "      <th>title1_tokenized</th>\n",
              "    </tr>\n",
              "  </thead>\n",
              "  <tbody>\n",
              "    <tr>\n",
              "      <th>0</th>\n",
              "      <td>two new old-age insurance benefits old people ...</td>\n",
              "      <td>two new old age insurance benefits old people ...</td>\n",
              "    </tr>\n",
              "    <tr>\n",
              "      <th>1</th>\n",
              "      <td>\"if come shenzhen, sooner later son also come....</td>\n",
              "      <td>if come shenzhen sooner later son also come . ...</td>\n",
              "    </tr>\n",
              "    <tr>\n",
              "      <th>2</th>\n",
              "      <td>\"if come shenzhen, sooner later son also come....</td>\n",
              "      <td>if come shenzhen sooner later son also come . ...</td>\n",
              "    </tr>\n",
              "    <tr>\n",
              "      <th>3</th>\n",
              "      <td>\"if come shenzhen, sooner later son also come....</td>\n",
              "      <td>if come shenzhen sooner later son also come . ...</td>\n",
              "    </tr>\n",
              "    <tr>\n",
              "      <th>4</th>\n",
              "      <td>\"how discriminate oil gutter oil means garlic.</td>\n",
              "      <td>how discriminate oil gutter oil means garlic .</td>\n",
              "    </tr>\n",
              "    <tr>\n",
              "      <th>5</th>\n",
              "      <td>\"if come shenzhen, sooner later son also come....</td>\n",
              "      <td>if come shenzhen sooner later son also come . ...</td>\n",
              "    </tr>\n",
              "    <tr>\n",
              "      <th>6</th>\n",
              "      <td>\"if eat durian, kill eat wrongly!\"</td>\n",
              "      <td>if eat durian kill eat wrongly</td>\n",
              "    </tr>\n",
              "    <tr>\n",
              "      <th>7</th>\n",
              "      <td>\"if come shenzhen, sooner later son also come....</td>\n",
              "      <td>if come shenzhen sooner later son also come . ...</td>\n",
              "    </tr>\n",
              "    <tr>\n",
              "      <th>8</th>\n",
              "      <td>\"frog frog? fertility test! let's play\" jewel \".\"</td>\n",
              "      <td>frog frog fertility test let play jewel</td>\n",
              "    </tr>\n",
              "    <tr>\n",
              "      <th>9</th>\n",
              "      <td>\"how discriminate oil gutter oil means garlic.</td>\n",
              "      <td>how discriminate oil gutter oil means garlic .</td>\n",
              "    </tr>\n",
              "  </tbody>\n",
              "</table>\n",
              "</div>\n",
              "      <button class=\"colab-df-convert\" onclick=\"convertToInteractive('df-16ea10c9-6323-447a-915d-cbc88b1d1f24')\"\n",
              "              title=\"Convert this dataframe to an interactive table.\"\n",
              "              style=\"display:none;\">\n",
              "        \n",
              "  <svg xmlns=\"http://www.w3.org/2000/svg\" height=\"24px\"viewBox=\"0 0 24 24\"\n",
              "       width=\"24px\">\n",
              "    <path d=\"M0 0h24v24H0V0z\" fill=\"none\"/>\n",
              "    <path d=\"M18.56 5.44l.94 2.06.94-2.06 2.06-.94-2.06-.94-.94-2.06-.94 2.06-2.06.94zm-11 1L8.5 8.5l.94-2.06 2.06-.94-2.06-.94L8.5 2.5l-.94 2.06-2.06.94zm10 10l.94 2.06.94-2.06 2.06-.94-2.06-.94-.94-2.06-.94 2.06-2.06.94z\"/><path d=\"M17.41 7.96l-1.37-1.37c-.4-.4-.92-.59-1.43-.59-.52 0-1.04.2-1.43.59L10.3 9.45l-7.72 7.72c-.78.78-.78 2.05 0 2.83L4 21.41c.39.39.9.59 1.41.59.51 0 1.02-.2 1.41-.59l7.78-7.78 2.81-2.81c.8-.78.8-2.07 0-2.86zM5.41 20L4 18.59l7.72-7.72 1.47 1.35L5.41 20z\"/>\n",
              "  </svg>\n",
              "      </button>\n",
              "      \n",
              "  <style>\n",
              "    .colab-df-container {\n",
              "      display:flex;\n",
              "      flex-wrap:wrap;\n",
              "      gap: 12px;\n",
              "    }\n",
              "\n",
              "    .colab-df-convert {\n",
              "      background-color: #E8F0FE;\n",
              "      border: none;\n",
              "      border-radius: 50%;\n",
              "      cursor: pointer;\n",
              "      display: none;\n",
              "      fill: #1967D2;\n",
              "      height: 32px;\n",
              "      padding: 0 0 0 0;\n",
              "      width: 32px;\n",
              "    }\n",
              "\n",
              "    .colab-df-convert:hover {\n",
              "      background-color: #E2EBFA;\n",
              "      box-shadow: 0px 1px 2px rgba(60, 64, 67, 0.3), 0px 1px 3px 1px rgba(60, 64, 67, 0.15);\n",
              "      fill: #174EA6;\n",
              "    }\n",
              "\n",
              "    [theme=dark] .colab-df-convert {\n",
              "      background-color: #3B4455;\n",
              "      fill: #D2E3FC;\n",
              "    }\n",
              "\n",
              "    [theme=dark] .colab-df-convert:hover {\n",
              "      background-color: #434B5C;\n",
              "      box-shadow: 0px 1px 3px 1px rgba(0, 0, 0, 0.15);\n",
              "      filter: drop-shadow(0px 1px 2px rgba(0, 0, 0, 0.3));\n",
              "      fill: #FFFFFF;\n",
              "    }\n",
              "  </style>\n",
              "\n",
              "      <script>\n",
              "        const buttonEl =\n",
              "          document.querySelector('#df-16ea10c9-6323-447a-915d-cbc88b1d1f24 button.colab-df-convert');\n",
              "        buttonEl.style.display =\n",
              "          google.colab.kernel.accessAllowed ? 'block' : 'none';\n",
              "\n",
              "        async function convertToInteractive(key) {\n",
              "          const element = document.querySelector('#df-16ea10c9-6323-447a-915d-cbc88b1d1f24');\n",
              "          const dataTable =\n",
              "            await google.colab.kernel.invokeFunction('convertToInteractive',\n",
              "                                                     [key], {});\n",
              "          if (!dataTable) return;\n",
              "\n",
              "          const docLinkHtml = 'Like what you see? Visit the ' +\n",
              "            '<a target=\"_blank\" href=https://colab.research.google.com/notebooks/data_table.ipynb>data table notebook</a>'\n",
              "            + ' to learn more about interactive tables.';\n",
              "          element.innerHTML = '';\n",
              "          dataTable['output_type'] = 'display_data';\n",
              "          await google.colab.output.renderOutput(dataTable, element);\n",
              "          const docLink = document.createElement('div');\n",
              "          docLink.innerHTML = docLinkHtml;\n",
              "          element.appendChild(docLink);\n",
              "        }\n",
              "      </script>\n",
              "    </div>\n",
              "  </div>\n",
              "  "
            ],
            "text/plain": [
              "                                           title1_en  \\\n",
              "0  two new old-age insurance benefits old people ...   \n",
              "1  \"if come shenzhen, sooner later son also come....   \n",
              "2  \"if come shenzhen, sooner later son also come....   \n",
              "3  \"if come shenzhen, sooner later son also come....   \n",
              "4     \"how discriminate oil gutter oil means garlic.   \n",
              "5  \"if come shenzhen, sooner later son also come....   \n",
              "6                 \"if eat durian, kill eat wrongly!\"   \n",
              "7  \"if come shenzhen, sooner later son also come....   \n",
              "8  \"frog frog? fertility test! let's play\" jewel \".\"   \n",
              "9     \"how discriminate oil gutter oil means garlic.   \n",
              "\n",
              "                                    title1_tokenized  \n",
              "0  two new old age insurance benefits old people ...  \n",
              "1  if come shenzhen sooner later son also come . ...  \n",
              "2  if come shenzhen sooner later son also come . ...  \n",
              "3  if come shenzhen sooner later son also come . ...  \n",
              "4     how discriminate oil gutter oil means garlic .  \n",
              "5  if come shenzhen sooner later son also come . ...  \n",
              "6                     if eat durian kill eat wrongly  \n",
              "7  if come shenzhen sooner later son also come . ...  \n",
              "8            frog frog fertility test let play jewel  \n",
              "9     how discriminate oil gutter oil means garlic .  "
            ]
          },
          "execution_count": 130,
          "metadata": {},
          "output_type": "execute_result"
        }
      ],
      "source": [
        "train.loc[:, [\"title1_en\", \"title1_tokenized\"]].head(10)"
      ]
    },
    {
      "cell_type": "code",
      "execution_count": null,
      "metadata": {
        "colab": {
          "base_uri": "https://localhost:8080/",
          "height": 363
        },
        "id": "9ZaYDD_sePny",
        "outputId": "1611793a-51df-4b85-e675-6986f42cf3eb"
      },
      "outputs": [
        {
          "data": {
            "text/html": [
              "\n",
              "  <div id=\"df-54023952-30c0-4946-9362-c5c7767be312\">\n",
              "    <div class=\"colab-df-container\">\n",
              "      <div>\n",
              "<style scoped>\n",
              "    .dataframe tbody tr th:only-of-type {\n",
              "        vertical-align: middle;\n",
              "    }\n",
              "\n",
              "    .dataframe tbody tr th {\n",
              "        vertical-align: top;\n",
              "    }\n",
              "\n",
              "    .dataframe thead th {\n",
              "        text-align: right;\n",
              "    }\n",
              "</style>\n",
              "<table border=\"1\" class=\"dataframe\">\n",
              "  <thead>\n",
              "    <tr style=\"text-align: right;\">\n",
              "      <th></th>\n",
              "      <th>title2_en</th>\n",
              "      <th>title2_tokenized</th>\n",
              "    </tr>\n",
              "  </thead>\n",
              "  <tbody>\n",
              "    <tr>\n",
              "      <th>0</th>\n",
              "      <td>police disprove \"bird's nest congress person g...</td>\n",
              "      <td>police disprove bird nest congress person gets...</td>\n",
              "    </tr>\n",
              "    <tr>\n",
              "      <th>1</th>\n",
              "      <td>shenzhen's gdp outstrips hong kong? shenzhen s...</td>\n",
              "      <td>shenzhen gdp outstrips hong kong shenzhen stat...</td>\n",
              "    </tr>\n",
              "    <tr>\n",
              "      <th>2</th>\n",
              "      <td>gdp overtopped hong kong? shenzhen clarified: ...</td>\n",
              "      <td>gdp overtopped hong kong shenzhen clarified li...</td>\n",
              "    </tr>\n",
              "    <tr>\n",
              "      <th>3</th>\n",
              "      <td>shenzhen's gdp topped hong kong last year? she...</td>\n",
              "      <td>shenzhen gdp topped hong kong last year shenzh...</td>\n",
              "    </tr>\n",
              "    <tr>\n",
              "      <th>4</th>\n",
              "      <td>took 30 years cooking oil know one piece garli...</td>\n",
              "      <td>took 30 years cooking oil know one piece garli...</td>\n",
              "    </tr>\n",
              "    <tr>\n",
              "      <th>5</th>\n",
              "      <td>shenzhen's gdp overtakes hong kong? bureau sta...</td>\n",
              "      <td>shenzhen gdp overtakes hong kong bureau statis...</td>\n",
              "    </tr>\n",
              "    <tr>\n",
              "      <th>6</th>\n",
              "      <td>durian can't eat anything, coffee, heart disea...</td>\n",
              "      <td>durian can eat anything coffee heart disease .</td>\n",
              "    </tr>\n",
              "    <tr>\n",
              "      <th>7</th>\n",
              "      <td>shenzhen's gdp outpaces hong kong? defending r...</td>\n",
              "      <td>shenzhen gdp outpaces hong kong defending rumo...</td>\n",
              "    </tr>\n",
              "    <tr>\n",
              "      <th>8</th>\n",
              "      <td>store xianning contains \"cotton\"? multi-agency...</td>\n",
              "      <td>store xianning contains cotton multi agency as...</td>\n",
              "    </tr>\n",
              "    <tr>\n",
              "      <th>9</th>\n",
              "      <td>single piece garlic spot gutter oil? come on! ...</td>\n",
              "      <td>single piece garlic spot gutter oil come on fo...</td>\n",
              "    </tr>\n",
              "  </tbody>\n",
              "</table>\n",
              "</div>\n",
              "      <button class=\"colab-df-convert\" onclick=\"convertToInteractive('df-54023952-30c0-4946-9362-c5c7767be312')\"\n",
              "              title=\"Convert this dataframe to an interactive table.\"\n",
              "              style=\"display:none;\">\n",
              "        \n",
              "  <svg xmlns=\"http://www.w3.org/2000/svg\" height=\"24px\"viewBox=\"0 0 24 24\"\n",
              "       width=\"24px\">\n",
              "    <path d=\"M0 0h24v24H0V0z\" fill=\"none\"/>\n",
              "    <path d=\"M18.56 5.44l.94 2.06.94-2.06 2.06-.94-2.06-.94-.94-2.06-.94 2.06-2.06.94zm-11 1L8.5 8.5l.94-2.06 2.06-.94-2.06-.94L8.5 2.5l-.94 2.06-2.06.94zm10 10l.94 2.06.94-2.06 2.06-.94-2.06-.94-.94-2.06-.94 2.06-2.06.94z\"/><path d=\"M17.41 7.96l-1.37-1.37c-.4-.4-.92-.59-1.43-.59-.52 0-1.04.2-1.43.59L10.3 9.45l-7.72 7.72c-.78.78-.78 2.05 0 2.83L4 21.41c.39.39.9.59 1.41.59.51 0 1.02-.2 1.41-.59l7.78-7.78 2.81-2.81c.8-.78.8-2.07 0-2.86zM5.41 20L4 18.59l7.72-7.72 1.47 1.35L5.41 20z\"/>\n",
              "  </svg>\n",
              "      </button>\n",
              "      \n",
              "  <style>\n",
              "    .colab-df-container {\n",
              "      display:flex;\n",
              "      flex-wrap:wrap;\n",
              "      gap: 12px;\n",
              "    }\n",
              "\n",
              "    .colab-df-convert {\n",
              "      background-color: #E8F0FE;\n",
              "      border: none;\n",
              "      border-radius: 50%;\n",
              "      cursor: pointer;\n",
              "      display: none;\n",
              "      fill: #1967D2;\n",
              "      height: 32px;\n",
              "      padding: 0 0 0 0;\n",
              "      width: 32px;\n",
              "    }\n",
              "\n",
              "    .colab-df-convert:hover {\n",
              "      background-color: #E2EBFA;\n",
              "      box-shadow: 0px 1px 2px rgba(60, 64, 67, 0.3), 0px 1px 3px 1px rgba(60, 64, 67, 0.15);\n",
              "      fill: #174EA6;\n",
              "    }\n",
              "\n",
              "    [theme=dark] .colab-df-convert {\n",
              "      background-color: #3B4455;\n",
              "      fill: #D2E3FC;\n",
              "    }\n",
              "\n",
              "    [theme=dark] .colab-df-convert:hover {\n",
              "      background-color: #434B5C;\n",
              "      box-shadow: 0px 1px 3px 1px rgba(0, 0, 0, 0.15);\n",
              "      filter: drop-shadow(0px 1px 2px rgba(0, 0, 0, 0.3));\n",
              "      fill: #FFFFFF;\n",
              "    }\n",
              "  </style>\n",
              "\n",
              "      <script>\n",
              "        const buttonEl =\n",
              "          document.querySelector('#df-54023952-30c0-4946-9362-c5c7767be312 button.colab-df-convert');\n",
              "        buttonEl.style.display =\n",
              "          google.colab.kernel.accessAllowed ? 'block' : 'none';\n",
              "\n",
              "        async function convertToInteractive(key) {\n",
              "          const element = document.querySelector('#df-54023952-30c0-4946-9362-c5c7767be312');\n",
              "          const dataTable =\n",
              "            await google.colab.kernel.invokeFunction('convertToInteractive',\n",
              "                                                     [key], {});\n",
              "          if (!dataTable) return;\n",
              "\n",
              "          const docLinkHtml = 'Like what you see? Visit the ' +\n",
              "            '<a target=\"_blank\" href=https://colab.research.google.com/notebooks/data_table.ipynb>data table notebook</a>'\n",
              "            + ' to learn more about interactive tables.';\n",
              "          element.innerHTML = '';\n",
              "          dataTable['output_type'] = 'display_data';\n",
              "          await google.colab.output.renderOutput(dataTable, element);\n",
              "          const docLink = document.createElement('div');\n",
              "          docLink.innerHTML = docLinkHtml;\n",
              "          element.appendChild(docLink);\n",
              "        }\n",
              "      </script>\n",
              "    </div>\n",
              "  </div>\n",
              "  "
            ],
            "text/plain": [
              "                                           title2_en  \\\n",
              "0  police disprove \"bird's nest congress person g...   \n",
              "1  shenzhen's gdp outstrips hong kong? shenzhen s...   \n",
              "2  gdp overtopped hong kong? shenzhen clarified: ...   \n",
              "3  shenzhen's gdp topped hong kong last year? she...   \n",
              "4  took 30 years cooking oil know one piece garli...   \n",
              "5  shenzhen's gdp overtakes hong kong? bureau sta...   \n",
              "6  durian can't eat anything, coffee, heart disea...   \n",
              "7  shenzhen's gdp outpaces hong kong? defending r...   \n",
              "8  store xianning contains \"cotton\"? multi-agency...   \n",
              "9  single piece garlic spot gutter oil? come on! ...   \n",
              "\n",
              "                                    title2_tokenized  \n",
              "0  police disprove bird nest congress person gets...  \n",
              "1  shenzhen gdp outstrips hong kong shenzhen stat...  \n",
              "2  gdp overtopped hong kong shenzhen clarified li...  \n",
              "3  shenzhen gdp topped hong kong last year shenzh...  \n",
              "4  took 30 years cooking oil know one piece garli...  \n",
              "5  shenzhen gdp overtakes hong kong bureau statis...  \n",
              "6     durian can eat anything coffee heart disease .  \n",
              "7  shenzhen gdp outpaces hong kong defending rumo...  \n",
              "8  store xianning contains cotton multi agency as...  \n",
              "9  single piece garlic spot gutter oil come on fo...  "
            ]
          },
          "execution_count": 131,
          "metadata": {},
          "output_type": "execute_result"
        }
      ],
      "source": [
        "train.loc[:, [\"title2_en\", \"title2_tokenized\"]].head(10)\n"
      ]
    },
    {
      "cell_type": "code",
      "execution_count": null,
      "metadata": {
        "id": "03-sjZ5keSN3"
      },
      "outputs": [],
      "source": [
        "train.fillna('UNKNOWN', inplace=True)"
      ]
    },
    {
      "cell_type": "markdown",
      "metadata": {
        "id": "9Pb7eohfjFAG"
      },
      "source": [
        "## **LSTM Implementation!**"
      ]
    },
    {
      "cell_type": "markdown",
      "metadata": {
        "id": "Mvp_i8hulMym"
      },
      "source": [
        "**vectorizing texts**"
      ]
    },
    {
      "cell_type": "code",
      "execution_count": null,
      "metadata": {
        "id": "ywUrX8PzeXRS"
      },
      "outputs": [],
      "source": [
        "tokenizer = keras.preprocessing.text.Tokenizer(num_words=10000)"
      ]
    },
    {
      "cell_type": "code",
      "execution_count": null,
      "metadata": {
        "colab": {
          "base_uri": "https://localhost:8080/"
        },
        "id": "XXRb1bgTehje",
        "outputId": "69e3cbf1-5ed4-427e-bfe0-bac4b6d390b2"
      },
      "outputs": [
        {
          "data": {
            "text/plain": [
              "(641104,)"
            ]
          },
          "execution_count": 25,
          "metadata": {},
          "output_type": "execute_result"
        }
      ],
      "source": [
        "x1Corpus = train.title1_tokenized\n",
        "x2Corpus = train.title2_tokenized\n",
        "Corpus = pd.concat([x1Corpus, x2Corpus])\n",
        "Corpus.shape"
      ]
    },
    {
      "cell_type": "code",
      "execution_count": null,
      "metadata": {
        "colab": {
          "base_uri": "https://localhost:8080/",
          "height": 206
        },
        "id": "GRp8ni2kemIm",
        "outputId": "ab240e7b-95af-4ccc-cd8d-427633cf7a8a"
      },
      "outputs": [
        {
          "data": {
            "text/html": [
              "\n",
              "  <div id=\"df-65ff2366-f8d5-4a0c-9f6a-d437d7288960\">\n",
              "    <div class=\"colab-df-container\">\n",
              "      <div>\n",
              "<style scoped>\n",
              "    .dataframe tbody tr th:only-of-type {\n",
              "        vertical-align: middle;\n",
              "    }\n",
              "\n",
              "    .dataframe tbody tr th {\n",
              "        vertical-align: top;\n",
              "    }\n",
              "\n",
              "    .dataframe thead th {\n",
              "        text-align: right;\n",
              "    }\n",
              "</style>\n",
              "<table border=\"1\" class=\"dataframe\">\n",
              "  <thead>\n",
              "    <tr style=\"text-align: right;\">\n",
              "      <th></th>\n",
              "      <th>Corpus Text</th>\n",
              "    </tr>\n",
              "  </thead>\n",
              "  <tbody>\n",
              "    <tr>\n",
              "      <th>0</th>\n",
              "      <td>two new old age insurance benefits old people ...</td>\n",
              "    </tr>\n",
              "    <tr>\n",
              "      <th>1</th>\n",
              "      <td>if come shenzhen sooner later son also come . ...</td>\n",
              "    </tr>\n",
              "    <tr>\n",
              "      <th>2</th>\n",
              "      <td>if come shenzhen sooner later son also come . ...</td>\n",
              "    </tr>\n",
              "    <tr>\n",
              "      <th>3</th>\n",
              "      <td>if come shenzhen sooner later son also come . ...</td>\n",
              "    </tr>\n",
              "    <tr>\n",
              "      <th>4</th>\n",
              "      <td>how discriminate oil gutter oil means garlic .</td>\n",
              "    </tr>\n",
              "  </tbody>\n",
              "</table>\n",
              "</div>\n",
              "      <button class=\"colab-df-convert\" onclick=\"convertToInteractive('df-65ff2366-f8d5-4a0c-9f6a-d437d7288960')\"\n",
              "              title=\"Convert this dataframe to an interactive table.\"\n",
              "              style=\"display:none;\">\n",
              "        \n",
              "  <svg xmlns=\"http://www.w3.org/2000/svg\" height=\"24px\"viewBox=\"0 0 24 24\"\n",
              "       width=\"24px\">\n",
              "    <path d=\"M0 0h24v24H0V0z\" fill=\"none\"/>\n",
              "    <path d=\"M18.56 5.44l.94 2.06.94-2.06 2.06-.94-2.06-.94-.94-2.06-.94 2.06-2.06.94zm-11 1L8.5 8.5l.94-2.06 2.06-.94-2.06-.94L8.5 2.5l-.94 2.06-2.06.94zm10 10l.94 2.06.94-2.06 2.06-.94-2.06-.94-.94-2.06-.94 2.06-2.06.94z\"/><path d=\"M17.41 7.96l-1.37-1.37c-.4-.4-.92-.59-1.43-.59-.52 0-1.04.2-1.43.59L10.3 9.45l-7.72 7.72c-.78.78-.78 2.05 0 2.83L4 21.41c.39.39.9.59 1.41.59.51 0 1.02-.2 1.41-.59l7.78-7.78 2.81-2.81c.8-.78.8-2.07 0-2.86zM5.41 20L4 18.59l7.72-7.72 1.47 1.35L5.41 20z\"/>\n",
              "  </svg>\n",
              "      </button>\n",
              "      \n",
              "  <style>\n",
              "    .colab-df-container {\n",
              "      display:flex;\n",
              "      flex-wrap:wrap;\n",
              "      gap: 12px;\n",
              "    }\n",
              "\n",
              "    .colab-df-convert {\n",
              "      background-color: #E8F0FE;\n",
              "      border: none;\n",
              "      border-radius: 50%;\n",
              "      cursor: pointer;\n",
              "      display: none;\n",
              "      fill: #1967D2;\n",
              "      height: 32px;\n",
              "      padding: 0 0 0 0;\n",
              "      width: 32px;\n",
              "    }\n",
              "\n",
              "    .colab-df-convert:hover {\n",
              "      background-color: #E2EBFA;\n",
              "      box-shadow: 0px 1px 2px rgba(60, 64, 67, 0.3), 0px 1px 3px 1px rgba(60, 64, 67, 0.15);\n",
              "      fill: #174EA6;\n",
              "    }\n",
              "\n",
              "    [theme=dark] .colab-df-convert {\n",
              "      background-color: #3B4455;\n",
              "      fill: #D2E3FC;\n",
              "    }\n",
              "\n",
              "    [theme=dark] .colab-df-convert:hover {\n",
              "      background-color: #434B5C;\n",
              "      box-shadow: 0px 1px 3px 1px rgba(0, 0, 0, 0.15);\n",
              "      filter: drop-shadow(0px 1px 2px rgba(0, 0, 0, 0.3));\n",
              "      fill: #FFFFFF;\n",
              "    }\n",
              "  </style>\n",
              "\n",
              "      <script>\n",
              "        const buttonEl =\n",
              "          document.querySelector('#df-65ff2366-f8d5-4a0c-9f6a-d437d7288960 button.colab-df-convert');\n",
              "        buttonEl.style.display =\n",
              "          google.colab.kernel.accessAllowed ? 'block' : 'none';\n",
              "\n",
              "        async function convertToInteractive(key) {\n",
              "          const element = document.querySelector('#df-65ff2366-f8d5-4a0c-9f6a-d437d7288960');\n",
              "          const dataTable =\n",
              "            await google.colab.kernel.invokeFunction('convertToInteractive',\n",
              "                                                     [key], {});\n",
              "          if (!dataTable) return;\n",
              "\n",
              "          const docLinkHtml = 'Like what you see? Visit the ' +\n",
              "            '<a target=\"_blank\" href=https://colab.research.google.com/notebooks/data_table.ipynb>data table notebook</a>'\n",
              "            + ' to learn more about interactive tables.';\n",
              "          element.innerHTML = '';\n",
              "          dataTable['output_type'] = 'display_data';\n",
              "          await google.colab.output.renderOutput(dataTable, element);\n",
              "          const docLink = document.createElement('div');\n",
              "          docLink.innerHTML = docLinkHtml;\n",
              "          element.appendChild(docLink);\n",
              "        }\n",
              "      </script>\n",
              "    </div>\n",
              "  </div>\n",
              "  "
            ],
            "text/plain": [
              "                                         Corpus Text\n",
              "0  two new old age insurance benefits old people ...\n",
              "1  if come shenzhen sooner later son also come . ...\n",
              "2  if come shenzhen sooner later son also come . ...\n",
              "3  if come shenzhen sooner later son also come . ...\n",
              "4     how discriminate oil gutter oil means garlic ."
            ]
          },
          "execution_count": 26,
          "metadata": {},
          "output_type": "execute_result"
        }
      ],
      "source": [
        "pd.DataFrame(Corpus.iloc[:5],columns=['Corpus Text'])"
      ]
    },
    {
      "cell_type": "code",
      "execution_count": null,
      "metadata": {
        "colab": {
          "base_uri": "https://localhost:8080/"
        },
        "id": "FMPN308JeoO9",
        "outputId": "e79373bf-1487-40d8-ba6d-725646b307d2"
      },
      "outputs": [
        {
          "data": {
            "text/plain": [
              "False"
            ]
          },
          "execution_count": 27,
          "metadata": {},
          "output_type": "execute_result"
        }
      ],
      "source": [
        "Corpus.isna().any()\n"
      ]
    },
    {
      "cell_type": "markdown",
      "metadata": {
        "id": "zOq3vtV0mB0l"
      },
      "source": [
        "**update the internal vocabulary for the texts list**"
      ]
    },
    {
      "cell_type": "code",
      "execution_count": null,
      "metadata": {
        "id": "NlM_LZPqeqmE"
      },
      "outputs": [],
      "source": [
        "tokenizer.fit_on_texts(Corpus)\n",
        "X1Train = tokenizer.texts_to_sequences(x1Corpus)\n",
        "X2Train = tokenizer.texts_to_sequences(x2Corpus)"
      ]
    },
    {
      "cell_type": "code",
      "execution_count": null,
      "metadata": {
        "colab": {
          "base_uri": "https://localhost:8080/"
        },
        "id": "v32ypU2BexMY",
        "outputId": "45062e87-40ce-478a-c7dc-0e4c3397a083"
      },
      "outputs": [
        {
          "name": "stdout",
          "output_type": "stream",
          "text": [
            "['two', 'new', 'old', 'age', 'insurance', 'benefits', 'old', 'people', 'rural', 'areas', 'got', 'them']\n"
          ]
        }
      ],
      "source": [
        "for TrainTokenSequence in X1Train[:1]:\n",
        "    print([tokenizer.index_word[IndexIs] for IndexIs in TrainTokenSequence])"
      ]
    },
    {
      "cell_type": "markdown",
      "metadata": {
        "id": "mDUmdUjknGyA"
      },
      "source": [
        "**pad_sequences is used to ensure that all sequences in a list have the same length**"
      ]
    },
    {
      "cell_type": "code",
      "execution_count": null,
      "metadata": {
        "id": "pt2j5jLWfdqH"
      },
      "outputs": [],
      "source": [
        "X1Train = keras.preprocessing.sequence.pad_sequences(X1Train,maxlen=20)\n",
        "X2Train = keras.preprocessing.sequence.pad_sequences(X2Train,maxlen=20)"
      ]
    },
    {
      "cell_type": "code",
      "execution_count": null,
      "metadata": {
        "id": "42JEsQoefnWG"
      },
      "outputs": [],
      "source": [
        "for SequenceofList in X1Train + X2Train:\n",
        "    assert len(SequenceofList) == 20"
      ]
    },
    {
      "cell_type": "markdown",
      "metadata": {
        "id": "vWlds0EBnXsH"
      },
      "source": [
        "**Encoding**"
      ]
    },
    {
      "cell_type": "code",
      "execution_count": null,
      "metadata": {
        "id": "wxGqTVKBfvK0"
      },
      "outputs": [],
      "source": [
        "EncodeTheLables = {'unrelated': 0,'agreed': 1,'disagreed': 2}\n",
        "TrainY = train.label.apply(lambda x: EncodeTheLables[x])\n",
        "TrainY = np.asarray(TrainY).astype('float32')"
      ]
    },
    {
      "cell_type": "code",
      "execution_count": null,
      "metadata": {
        "id": "U_1OCMcvf75x"
      },
      "outputs": [],
      "source": [
        "TrainY = keras.utils.np_utils.to_categorical(TrainY)"
      ]
    },
    {
      "cell_type": "code",
      "execution_count": null,
      "metadata": {
        "id": "U8rOpbuOZvvS"
      },
      "outputs": [],
      "source": [
        "x1_train, x1_val, x2_train, x2_val, y_train, y_val = train_test_split( X1Train, X2Train, TrainY, test_size=0.1, random_state=9527 )"
      ]
    },
    {
      "cell_type": "code",
      "execution_count": null,
      "metadata": {
        "colab": {
          "base_uri": "https://localhost:8080/"
        },
        "id": "SoW7CNjlZyfv",
        "outputId": "5bbaf660-e2c7-4e9a-8797-665075667010"
      },
      "outputs": [
        {
          "name": "stdout",
          "output_type": "stream",
          "text": [
            "Model: \"model_8\"\n",
            "__________________________________________________________________________________________________\n",
            " Layer (type)                   Output Shape         Param #     Connected to                     \n",
            "==================================================================================================\n",
            " input_31 (InputLayer)          [(None, 20)]         0           []                               \n",
            "                                                                                                  \n",
            " input_32 (InputLayer)          [(None, 20)]         0           []                               \n",
            "                                                                                                  \n",
            " embedding_6 (Embedding)        (None, 20, 256)      2560000     ['input_31[0][0]',               \n",
            "                                                                  'input_32[0][0]']               \n",
            "                                                                                                  \n",
            " lstm (LSTM)                    (None, 128)          197120      ['embedding_6[18][0]',           \n",
            "                                                                  'embedding_6[19][0]']           \n",
            "                                                                                                  \n",
            " concatenate_8 (Concatenate)    (None, 256)          0           ['lstm[16][0]',                  \n",
            "                                                                  'lstm[17][0]']                  \n",
            "                                                                                                  \n",
            " dense_8 (Dense)                (None, 3)            771         ['concatenate_8[0][0]']          \n",
            "                                                                                                  \n",
            "==================================================================================================\n",
            "Total params: 2,757,891\n",
            "Trainable params: 2,757,891\n",
            "Non-trainable params: 0\n",
            "__________________________________________________________________________________________________\n"
          ]
        }
      ],
      "source": [
        "from keras.layers import Embedding\n",
        "TopInput = Input(shape=(20,), dtype='int32')\n",
        "BottomInput = Input(shape=(20,), dtype='int32')\n",
        "\n",
        "\"\"\"Convert each word into a fixed length vector \"\"\"\n",
        "KerasEmbeddingLayer = Embedding(10000, 256)\n",
        "TopKerasEmbeddingLayer = KerasEmbeddingLayer(TopInput)\n",
        "BottomKerasEmbeddingLayer = KerasEmbeddingLayer(BottomInput)\n",
        "SharedLSTM = LSTM(128)\n",
        "TopOutputs = SharedLSTM(TopKerasEmbeddingLayer)\n",
        "BottomOutputs = SharedLSTM(BottomKerasEmbeddingLayer)\n",
        "MergedAll = concatenate([TopOutputs, BottomOutputs], axis=-1)\n",
        "dense =  Dense(units=3, activation='softmax')\n",
        "predictions = dense(MergedAll)\n",
        "LSTMmodel = Model(inputs=[TopInput, BottomInput], outputs=predictions)\n",
        "LSTMmodel.summary()"
      ]
    },
    {
      "cell_type": "markdown",
      "metadata": {
        "id": "fhkEhXBqtTkH"
      },
      "source": [
        "**Adam optimization is a stochastic gradient descent method that is based on adaptive estimation of first-order and second-order moments**"
      ]
    },
    {
      "cell_type": "code",
      "execution_count": null,
      "metadata": {
        "id": "TBfL_JuxaV4d"
      },
      "outputs": [],
      "source": [
        "LSTMmodel.compile(optimizer='adam', loss='categorical_crossentropy', metrics=['accuracy'])"
      ]
    },
    {
      "cell_type": "code",
      "execution_count": null,
      "metadata": {
        "colab": {
          "base_uri": "https://localhost:8080/"
        },
        "id": "Gc1Fi9ZAaY-5",
        "outputId": "b748b3e7-d107-473a-9432-4da1aa216764"
      },
      "outputs": [
        {
          "name": "stdout",
          "output_type": "stream",
          "text": [
            "28850/28850 [==============================] - 2488s 86ms/step - loss: 0.4647 - accuracy: 0.7842 - val_loss: 0.4241 - val_accuracy: 0.8105\n"
          ]
        }
      ],
      "source": [
        "history = LSTMmodel.fit( x=[x1_train, x2_train],  y=y_train, batch_size=10, epochs=1, validation_data=( [x1_val, x2_val], y_val), shuffle=True )"
      ]
    },
    {
      "cell_type": "code",
      "execution_count": null,
      "metadata": {
        "colab": {
          "base_uri": "https://localhost:8080/",
          "height": 340
        },
        "id": "F9iv-E6ZuOGO",
        "outputId": "3d42982f-a1ab-4926-9746-8f49e9a2db7e"
      },
      "outputs": [
        {
          "name": "stdout",
          "output_type": "stream",
          "text": [
            "TestCSV is being used!\n"
          ]
        },
        {
          "data": {
            "text/html": [
              "\n",
              "  <div id=\"df-1b52a7a4-a17b-40c1-89f8-6bf029b8410b\">\n",
              "    <div class=\"colab-df-container\">\n",
              "      <div>\n",
              "<style scoped>\n",
              "    .dataframe tbody tr th:only-of-type {\n",
              "        vertical-align: middle;\n",
              "    }\n",
              "\n",
              "    .dataframe tbody tr th {\n",
              "        vertical-align: top;\n",
              "    }\n",
              "\n",
              "    .dataframe thead th {\n",
              "        text-align: right;\n",
              "    }\n",
              "</style>\n",
              "<table border=\"1\" class=\"dataframe\">\n",
              "  <thead>\n",
              "    <tr style=\"text-align: right;\">\n",
              "      <th></th>\n",
              "      <th>tid1</th>\n",
              "      <th>tid2</th>\n",
              "      <th>title1_zh</th>\n",
              "      <th>title2_zh</th>\n",
              "      <th>title1_en</th>\n",
              "      <th>title2_en</th>\n",
              "      <th>title1_tokenized</th>\n",
              "      <th>title2_tokenized</th>\n",
              "    </tr>\n",
              "    <tr>\n",
              "      <th>id</th>\n",
              "      <th></th>\n",
              "      <th></th>\n",
              "      <th></th>\n",
              "      <th></th>\n",
              "      <th></th>\n",
              "      <th></th>\n",
              "      <th></th>\n",
              "      <th></th>\n",
              "    </tr>\n",
              "  </thead>\n",
              "  <tbody>\n",
              "    <tr>\n",
              "      <th>321187</th>\n",
              "      <td>167562</td>\n",
              "      <td>59521</td>\n",
              "      <td>萨拉赫人气爆棚!埃及总统大选未参选获百万选票 现任总统压力山大</td>\n",
              "      <td>辟谣！里昂官方否认费基尔加盟利物浦，难道是价格没谈拢？</td>\n",
              "      <td>egypt 's presidential election failed to win m...</td>\n",
              "      <td>Lyon! Lyon officials have denied that Felipe F...</td>\n",
              "      <td>egypt presidential election failed to win mill...</td>\n",
              "      <td>Lyon Lyon officials have denied that Felipe Fe...</td>\n",
              "    </tr>\n",
              "    <tr>\n",
              "      <th>321190</th>\n",
              "      <td>167564</td>\n",
              "      <td>91315</td>\n",
              "      <td>萨达姆被捕后告诫美国的一句话，发人深思</td>\n",
              "      <td>10大最让美国人相信的荒诞谣言，如蜥蜴人掌控着美国</td>\n",
              "      <td>A message from Saddam Hussein after he was cap...</td>\n",
              "      <td>The Top 10 Americans believe that the Lizard M...</td>\n",
              "      <td>message from Saddam Hussein after he was captured</td>\n",
              "      <td>The Top 10 Americans believe that the Lizard M...</td>\n",
              "    </tr>\n",
              "    <tr>\n",
              "      <th>321189</th>\n",
              "      <td>167563</td>\n",
              "      <td>167564</td>\n",
              "      <td>萨达姆此项计划没有此国破坏的话，美国还会对伊拉克发动战争吗</td>\n",
              "      <td>萨达姆被捕后告诫美国的一句话，发人深思</td>\n",
              "      <td>Will the United States wage war on Iraq withou...</td>\n",
              "      <td>A message from Saddam Hussein after he was cap...</td>\n",
              "      <td>Will the United States wage war on Iraq withou...</td>\n",
              "      <td>message from Saddam Hussein after he was captured</td>\n",
              "    </tr>\n",
              "  </tbody>\n",
              "</table>\n",
              "</div>\n",
              "      <button class=\"colab-df-convert\" onclick=\"convertToInteractive('df-1b52a7a4-a17b-40c1-89f8-6bf029b8410b')\"\n",
              "              title=\"Convert this dataframe to an interactive table.\"\n",
              "              style=\"display:none;\">\n",
              "        \n",
              "  <svg xmlns=\"http://www.w3.org/2000/svg\" height=\"24px\"viewBox=\"0 0 24 24\"\n",
              "       width=\"24px\">\n",
              "    <path d=\"M0 0h24v24H0V0z\" fill=\"none\"/>\n",
              "    <path d=\"M18.56 5.44l.94 2.06.94-2.06 2.06-.94-2.06-.94-.94-2.06-.94 2.06-2.06.94zm-11 1L8.5 8.5l.94-2.06 2.06-.94-2.06-.94L8.5 2.5l-.94 2.06-2.06.94zm10 10l.94 2.06.94-2.06 2.06-.94-2.06-.94-.94-2.06-.94 2.06-2.06.94z\"/><path d=\"M17.41 7.96l-1.37-1.37c-.4-.4-.92-.59-1.43-.59-.52 0-1.04.2-1.43.59L10.3 9.45l-7.72 7.72c-.78.78-.78 2.05 0 2.83L4 21.41c.39.39.9.59 1.41.59.51 0 1.02-.2 1.41-.59l7.78-7.78 2.81-2.81c.8-.78.8-2.07 0-2.86zM5.41 20L4 18.59l7.72-7.72 1.47 1.35L5.41 20z\"/>\n",
              "  </svg>\n",
              "      </button>\n",
              "      \n",
              "  <style>\n",
              "    .colab-df-container {\n",
              "      display:flex;\n",
              "      flex-wrap:wrap;\n",
              "      gap: 12px;\n",
              "    }\n",
              "\n",
              "    .colab-df-convert {\n",
              "      background-color: #E8F0FE;\n",
              "      border: none;\n",
              "      border-radius: 50%;\n",
              "      cursor: pointer;\n",
              "      display: none;\n",
              "      fill: #1967D2;\n",
              "      height: 32px;\n",
              "      padding: 0 0 0 0;\n",
              "      width: 32px;\n",
              "    }\n",
              "\n",
              "    .colab-df-convert:hover {\n",
              "      background-color: #E2EBFA;\n",
              "      box-shadow: 0px 1px 2px rgba(60, 64, 67, 0.3), 0px 1px 3px 1px rgba(60, 64, 67, 0.15);\n",
              "      fill: #174EA6;\n",
              "    }\n",
              "\n",
              "    [theme=dark] .colab-df-convert {\n",
              "      background-color: #3B4455;\n",
              "      fill: #D2E3FC;\n",
              "    }\n",
              "\n",
              "    [theme=dark] .colab-df-convert:hover {\n",
              "      background-color: #434B5C;\n",
              "      box-shadow: 0px 1px 3px 1px rgba(0, 0, 0, 0.15);\n",
              "      filter: drop-shadow(0px 1px 2px rgba(0, 0, 0, 0.3));\n",
              "      fill: #FFFFFF;\n",
              "    }\n",
              "  </style>\n",
              "\n",
              "      <script>\n",
              "        const buttonEl =\n",
              "          document.querySelector('#df-1b52a7a4-a17b-40c1-89f8-6bf029b8410b button.colab-df-convert');\n",
              "        buttonEl.style.display =\n",
              "          google.colab.kernel.accessAllowed ? 'block' : 'none';\n",
              "\n",
              "        async function convertToInteractive(key) {\n",
              "          const element = document.querySelector('#df-1b52a7a4-a17b-40c1-89f8-6bf029b8410b');\n",
              "          const dataTable =\n",
              "            await google.colab.kernel.invokeFunction('convertToInteractive',\n",
              "                                                     [key], {});\n",
              "          if (!dataTable) return;\n",
              "\n",
              "          const docLinkHtml = 'Like what you see? Visit the ' +\n",
              "            '<a target=\"_blank\" href=https://colab.research.google.com/notebooks/data_table.ipynb>data table notebook</a>'\n",
              "            + ' to learn more about interactive tables.';\n",
              "          element.innerHTML = '';\n",
              "          dataTable['output_type'] = 'display_data';\n",
              "          await google.colab.output.renderOutput(dataTable, element);\n",
              "          const docLink = document.createElement('div');\n",
              "          docLink.innerHTML = docLinkHtml;\n",
              "          element.appendChild(docLink);\n",
              "        }\n",
              "      </script>\n",
              "    </div>\n",
              "  </div>\n",
              "  "
            ],
            "text/plain": [
              "          tid1    tid2                        title1_zh  \\\n",
              "id                                                        \n",
              "321187  167562   59521  萨拉赫人气爆棚!埃及总统大选未参选获百万选票 现任总统压力山大   \n",
              "321190  167564   91315              萨达姆被捕后告诫美国的一句话，发人深思   \n",
              "321189  167563  167564    萨达姆此项计划没有此国破坏的话，美国还会对伊拉克发动战争吗   \n",
              "\n",
              "                          title2_zh  \\\n",
              "id                                    \n",
              "321187  辟谣！里昂官方否认费基尔加盟利物浦，难道是价格没谈拢？   \n",
              "321190    10大最让美国人相信的荒诞谣言，如蜥蜴人掌控着美国   \n",
              "321189          萨达姆被捕后告诫美国的一句话，发人深思   \n",
              "\n",
              "                                                title1_en  \\\n",
              "id                                                          \n",
              "321187  egypt 's presidential election failed to win m...   \n",
              "321190  A message from Saddam Hussein after he was cap...   \n",
              "321189  Will the United States wage war on Iraq withou...   \n",
              "\n",
              "                                                title2_en  \\\n",
              "id                                                          \n",
              "321187  Lyon! Lyon officials have denied that Felipe F...   \n",
              "321190  The Top 10 Americans believe that the Lizard M...   \n",
              "321189  A message from Saddam Hussein after he was cap...   \n",
              "\n",
              "                                         title1_tokenized  \\\n",
              "id                                                          \n",
              "321187  egypt presidential election failed to win mill...   \n",
              "321190  message from Saddam Hussein after he was captured   \n",
              "321189  Will the United States wage war on Iraq withou...   \n",
              "\n",
              "                                         title2_tokenized  \n",
              "id                                                         \n",
              "321187  Lyon Lyon officials have denied that Felipe Fe...  \n",
              "321190  The Top 10 Americans believe that the Lizard M...  \n",
              "321189  message from Saddam Hussein after he was captured  "
            ]
          },
          "execution_count": 189,
          "metadata": {},
          "output_type": "execute_result"
        }
      ],
      "source": [
        "if os.path.exists(TokenTestCSV):\n",
        "    print(\"Now using TestToken CSV!\")\n",
        "    test = pd.read_csv(TokenTestCSV, index_col=0)\n",
        "else:\n",
        "    print(\"TestCSV is being used!\")\n",
        "    test = pd.read_csv(TestCSV, index_col=0)\n",
        "    test.fillna('UNKNOWN', inplace=True)\n",
        "    test['title1_tokenized'] = MultiProcessing(test.loc[:, 'title1_en'], TokenProcess)\n",
        "    test['title2_tokenized'] = MultiProcessing(test.loc[:, 'title2_en'], TokenProcess)\n",
        "    test.fillna('UNKNOWN', inplace=True)\n",
        "test.head(3)"
      ]
    },
    {
      "cell_type": "code",
      "execution_count": null,
      "metadata": {
        "id": "lZYZawnGuRmQ"
      },
      "outputs": [],
      "source": [
        "X1Test = tokenizer.texts_to_sequences(test.title1_tokenized)\n",
        "X2Test = tokenizer.texts_to_sequences(test.title2_tokenized)\n",
        "X1Test = keras.preprocessing.sequence.pad_sequences(X1Test, maxlen=20)\n",
        "X2Test = keras.preprocessing.sequence.pad_sequences(X2Test, maxlen=20)    \n",
        "predictions = LSTMmodel.predict([X1Test, X2Test])"
      ]
    },
    {
      "cell_type": "code",
      "execution_count": null,
      "metadata": {
        "colab": {
          "base_uri": "https://localhost:8080/"
        },
        "id": "tppzQSScxvtI",
        "outputId": "1c02fa5d-8043-4bd0-bfb6-96960b97b04e"
      },
      "outputs": [
        {
          "data": {
            "text/plain": [
              "array([[9.8967719e-01, 2.5508583e-03, 7.7720219e-03],\n",
              "       [9.1504049e-01, 8.2216844e-02, 2.7426223e-03],\n",
              "       [9.8859566e-01, 5.0038826e-03, 6.4004022e-03],\n",
              "       ...,\n",
              "       [9.1849363e-01, 7.4889131e-02, 6.6172355e-03],\n",
              "       [9.1492802e-01, 8.4216125e-02, 8.5584028e-04],\n",
              "       [6.6434872e-01, 3.3390006e-01, 1.7511578e-03]], dtype=float32)"
            ]
          },
          "execution_count": 191,
          "metadata": {},
          "output_type": "execute_result"
        }
      ],
      "source": [
        "predictions"
      ]
    },
    {
      "cell_type": "markdown",
      "metadata": {
        "id": "pQYpbQBuDg7P"
      },
      "source": [
        "### **MLPClassifier**"
      ]
    },
    {
      "cell_type": "code",
      "execution_count": null,
      "metadata": {
        "id": "lvVoTgqsl6ke"
      },
      "outputs": [],
      "source": [
        "x1_train, x1_val, x2_train, x2_val, y_train, y_val = train_test_split( X1Train, X2Train, TrainY, test_size=0.1, random_state=9527 )"
      ]
    },
    {
      "cell_type": "code",
      "execution_count": null,
      "metadata": {
        "id": "f_lDbpJAkSEN"
      },
      "outputs": [],
      "source": [
        "from sklearn.neural_network import MLPClassifier\n",
        "\n",
        "mlp = MLPClassifier(hidden_layer_sizes=(8,8,8), activation='relu', solver='adam', max_iter=500)\n",
        "mlp.fit(x1_train,y_train)\n",
        "\n",
        "predict_train = mlp.predict(x1_train)\n",
        "#predict_test = mlp.predict(X_test)"
      ]
    },
    {
      "cell_type": "code",
      "execution_count": null,
      "metadata": {
        "colab": {
          "base_uri": "https://localhost:8080/"
        },
        "id": "dmf1NHKnmPy1",
        "outputId": "f5831b5c-f3d8-416c-a48b-45f942b6a344"
      },
      "outputs": [
        {
          "data": {
            "text/plain": [
              "array([[1, 0, 0],\n",
              "       [1, 0, 0],\n",
              "       [1, 0, 0],\n",
              "       ...,\n",
              "       [1, 0, 0],\n",
              "       [1, 0, 0],\n",
              "       [1, 0, 0]])"
            ]
          },
          "execution_count": 36,
          "metadata": {},
          "output_type": "execute_result"
        }
      ],
      "source": [
        "predict_train"
      ]
    },
    {
      "cell_type": "code",
      "execution_count": null,
      "metadata": {
        "colab": {
          "base_uri": "https://localhost:8080/"
        },
        "id": "afou38xPmSeA",
        "outputId": "958cda3d-53ff-44ad-bddf-f1079d7b6166"
      },
      "outputs": [
        {
          "name": "stderr",
          "output_type": "stream",
          "text": [
            "/usr/local/lib/python3.7/dist-packages/sklearn/metrics/_classification.py:1318: UndefinedMetricWarning: Precision and F-score are ill-defined and being set to 0.0 in labels with no predicted samples. Use `zero_division` parameter to control this behavior.\n",
            "  _warn_prf(average, modifier, msg_start, len(result))\n"
          ]
        },
        {
          "name": "stdout",
          "output_type": "stream",
          "text": [
            "              precision    recall  f1-score   support\n",
            "\n",
            "           0       0.68      1.00      0.81    197388\n",
            "           1       0.97      0.00      0.00     83647\n",
            "           2       0.00      0.00      0.00      7461\n",
            "\n",
            "   micro avg       0.68      0.68      0.68    288496\n",
            "   macro avg       0.55      0.33      0.27    288496\n",
            "weighted avg       0.75      0.68      0.56    288496\n",
            " samples avg       0.68      0.68      0.68    288496\n",
            "\n"
          ]
        }
      ],
      "source": [
        "from sklearn.metrics import classification_report,confusion_matrix\n",
        "print(classification_report(y_train,predict_train))"
      ]
    },
    {
      "cell_type": "code",
      "execution_count": null,
      "metadata": {
        "id": "its7VC-immaB"
      },
      "outputs": [],
      "source": [
        "mlp.fit(x2_train,y_train)\n",
        "\n",
        "predict_train = mlp.predict(x2_train)"
      ]
    },
    {
      "cell_type": "code",
      "execution_count": null,
      "metadata": {
        "colab": {
          "base_uri": "https://localhost:8080/"
        },
        "id": "FcX7Mnd3mpv_",
        "outputId": "450533b6-8bc6-4f6a-a238-94187f595c3a"
      },
      "outputs": [
        {
          "name": "stderr",
          "output_type": "stream",
          "text": [
            "/usr/local/lib/python3.7/dist-packages/sklearn/metrics/_classification.py:1318: UndefinedMetricWarning: Precision and F-score are ill-defined and being set to 0.0 in labels with no predicted samples. Use `zero_division` parameter to control this behavior.\n",
            "  _warn_prf(average, modifier, msg_start, len(result))\n"
          ]
        },
        {
          "name": "stdout",
          "output_type": "stream",
          "text": [
            "              precision    recall  f1-score   support\n",
            "\n",
            "           0       0.68      1.00      0.81    197388\n",
            "           1       0.00      0.00      0.00     83647\n",
            "           2       0.00      0.00      0.00      7461\n",
            "\n",
            "   micro avg       0.68      0.68      0.68    288496\n",
            "   macro avg       0.23      0.33      0.27    288496\n",
            "weighted avg       0.47      0.68      0.56    288496\n",
            " samples avg       0.68      0.68      0.68    288496\n",
            "\n"
          ]
        }
      ],
      "source": [
        "from sklearn.metrics import classification_report,confusion_matrix\n",
        "print(classification_report(y_train,predict_train))"
      ]
    },
    {
      "cell_type": "markdown",
      "metadata": {
        "id": "MtLFPO8L-NeD"
      },
      "source": [
        "### BERT Embeddings"
      ]
    },
    {
      "cell_type": "code",
      "execution_count": null,
      "metadata": {
        "id": "29Hg_yAH-NeE"
      },
      "outputs": [],
      "source": [
        "import tensorflow as tf\n",
        "import tensorflow_hub as hub\n",
        "import tensorflow_text as text"
      ]
    },
    {
      "cell_type": "markdown",
      "metadata": {
        "id": "n72fSV8k-NeE"
      },
      "source": [
        "#### BERT preprocess and encoder layer"
      ]
    },
    {
      "cell_type": "code",
      "execution_count": null,
      "metadata": {
        "id": "CgrEYqaW-NeF"
      },
      "outputs": [],
      "source": [
        "bert_preprocess = hub.KerasLayer(\"https://tfhub.dev/tensorflow/bert_en_uncased_preprocess/3\")\n",
        "bert_encoder = hub.KerasLayer(\"https://tfhub.dev/google/small_bert/bert_uncased_L-2_H-128_A-2/2\")"
      ]
    },
    {
      "cell_type": "code",
      "execution_count": null,
      "metadata": {
        "id": "uTaQ_Hq4-NeF"
      },
      "outputs": [],
      "source": [
        "df=train"
      ]
    },
    {
      "cell_type": "code",
      "execution_count": null,
      "metadata": {
        "id": "hNduHIlL-NeF"
      },
      "outputs": [],
      "source": [
        "preprocessed_text = bert_preprocess(df['title1_en'].values.tolist())\n",
        "a=bert_encoder(preprocessed_text)[\"default\"]\n",
        "preprocessed_text = bert_preprocess(df['title2_en'].values.tolist())\n",
        "b=bert_encoder(preprocessed_text)['pooled_output']"
      ]
    },
    {
      "cell_type": "markdown",
      "metadata": {
        "id": "GVDeyx1j-NeG"
      },
      "source": [
        "#### Cosine Similarity for BERT EMbeddings"
      ]
    },
    {
      "cell_type": "code",
      "execution_count": null,
      "metadata": {
        "id": "VyH0INRw-NeG"
      },
      "outputs": [],
      "source": [
        "from sklearn.metrics.pairwise import cosine_similarity\n",
        "res=[]\n",
        "for i in range(12000):\n",
        "  res.append(cosine_similarity([a[i]],[b[i]])[0][0])"
      ]
    },
    {
      "cell_type": "code",
      "execution_count": null,
      "metadata": {
        "colab": {
          "base_uri": "https://localhost:8080/"
        },
        "id": "NEkGySak-NeG",
        "outputId": "cc3a846a-9563-49a3-b232-eb6280d083c9"
      },
      "outputs": [
        {
          "output_type": "stream",
          "name": "stdout",
          "text": [
            "Accuracy: 0.6312\n"
          ]
        }
      ],
      "source": [
        "df_pred = pd.cut(x=res, bins=[0, 0.7,0.9,1],labels=[0, 1,2])\n",
        "print(\"Accuracy:\",accuracy_score(df1.values.tolist(), df_pred.tolist()))"
      ]
    },
    {
      "cell_type": "code",
      "source": [
        "cf_matrix = confusion_matrix(df1.values.tolist(), df_pred.tolist())\n",
        "sns.heatmap(cf_matrix/np.sum(cf_matrix), annot=True, \n",
        "            fmt='.2%', cmap='Blues')"
      ],
      "metadata": {
        "colab": {
          "base_uri": "https://localhost:8080/",
          "height": 283
        },
        "id": "EfWoU73W_O9R",
        "outputId": "80894ea8-66c7-4719-81aa-c441e40ab16d"
      },
      "execution_count": null,
      "outputs": [
        {
          "output_type": "execute_result",
          "data": {
            "text/plain": [
              "<matplotlib.axes._subplots.AxesSubplot at 0x7f1ebef09c10>"
            ]
          },
          "metadata": {},
          "execution_count": 4
        },
        {
          "output_type": "display_data",
          "data": {
            "text/plain": [
              "<Figure size 432x288 with 2 Axes>"
            ],
            "image/png": "[encoded data removed]"
          },
          "metadata": {
            "needs_background": "light"
          }
        }
      ]
    },
    {
      "cell_type": "code",
      "execution_count": null,
      "metadata": {
        "id": "PKof_pxu-NeH"
      },
      "outputs": [],
      "source": [
        "df_bert1 = pd.DataFrame(a.numpy())\n",
        "df_bert2 = pd.DataFrame(b.numpy())\n",
        "df = pd.concat([df_bert1, df_bert2], axis=1, join='inner')"
      ]
    },
    {
      "cell_type": "code",
      "execution_count": null,
      "metadata": {
        "id": "cVusXFOg-NeH"
      },
      "outputs": [],
      "source": [
        "from sklearn.model_selection import train_test_split\n",
        "X_train, X_test, y_train, y_test = train_test_split(df, df1,stratify=df1,test_size=0.33)"
      ]
    },
    {
      "cell_type": "markdown",
      "metadata": {
        "id": "qnY55aEm-NeH"
      },
      "source": [
        "#### Support Vector Machine (SVM) for BERT EMbeddings"
      ]
    },
    {
      "cell_type": "code",
      "execution_count": null,
      "metadata": {
        "colab": {
          "base_uri": "https://localhost:8080/"
        },
        "id": "5ZiWw-bF-NeI",
        "outputId": "0cbf3294-f49a-4a7f-b8df-2cab12e56210"
      },
      "outputs": [
        {
          "output_type": "stream",
          "name": "stdout",
          "text": [
            "Accuracy: 0.7995\n"
          ]
        }
      ],
      "source": [
        "from sklearn import svm\n",
        "\n",
        "clf = svm.SVC(kernel='linear') \n",
        "clf.fit(X_train, y_train)\n",
        "y_pred = clf.predict(X_test)\n",
        "print(\"Accuracy:\",accuracy_score(y_test, y_pred))"
      ]
    },
    {
      "cell_type": "code",
      "source": [
        "cf_matrix = confusion_matrix(y_test, y_pred)\n",
        "sns.heatmap(cf_matrix/np.sum(cf_matrix), annot=True, \n",
        "            fmt='.2%', cmap='Blues')"
      ],
      "metadata": {
        "colab": {
          "base_uri": "https://localhost:8080/",
          "height": 283
        },
        "id": "twTd9oaC_1XP",
        "outputId": "e2e46296-25c1-45a3-f9dc-57cf3becf591"
      },
      "execution_count": null,
      "outputs": [
        {
          "output_type": "execute_result",
          "data": {
            "text/plain": [
              "<matplotlib.axes._subplots.AxesSubplot at 0x7f1ebb27ad90>"
            ]
          },
          "metadata": {},
          "execution_count": 7
        },
        {
          "output_type": "display_data",
          "data": {
            "text/plain": [
              "<Figure size 432x288 with 2 Axes>"
            ],
            "image/png": "[encoded data removed]"
          },
          "metadata": {
            "needs_background": "light"
          }
        }
      ]
    },
    {
      "cell_type": "markdown",
      "metadata": {
        "id": "h7DTyHOy-NeI"
      },
      "source": [
        "#### Gaussian Naive Bayes for BERT EMbeddings"
      ]
    },
    {
      "cell_type": "code",
      "execution_count": null,
      "metadata": {
        "colab": {
          "base_uri": "https://localhost:8080/"
        },
        "id": "tJzITt43-NeI",
        "outputId": "d80de5c8-2d5a-47fc-9537-a717320f61d1"
      },
      "outputs": [
        {
          "output_type": "stream",
          "name": "stdout",
          "text": [
            "Accuracy: 0.7\n"
          ]
        }
      ],
      "source": [
        "from sklearn.naive_bayes import GaussianNB\n",
        "gnb = GaussianNB()\n",
        "y_pred = gnb.fit(X_train, y_train).predict(X_test)\n",
        "print(\"Accuracy:\",accuracy_score(y_test, y_pred))"
      ]
    },
    {
      "cell_type": "code",
      "source": [
        "cf_matrix = confusion_matrix(y_test, y_pred)\n",
        "sns.heatmap(cf_matrix/np.sum(cf_matrix), annot=True, \n",
        "            fmt='.2%', cmap='Blues')"
      ],
      "metadata": {
        "colab": {
          "base_uri": "https://localhost:8080/",
          "height": 283
        },
        "id": "nKdbI_iCAHvD",
        "outputId": "0080bf66-5923-4ede-ba70-79bd67112b11"
      },
      "execution_count": null,
      "outputs": [
        {
          "output_type": "execute_result",
          "data": {
            "text/plain": [
              "<matplotlib.axes._subplots.AxesSubplot at 0x7f1eb83745d0>"
            ]
          },
          "metadata": {},
          "execution_count": 10
        },
        {
          "output_type": "display_data",
          "data": {
            "text/plain": [
              "<Figure size 432x288 with 2 Axes>"
            ],
            "image/png": "[encoded data removed]"
          },
          "metadata": {
            "needs_background": "light"
          }
        }
      ]
    },
    {
      "cell_type": "markdown",
      "metadata": {
        "id": "wkO9zxoN-NeI"
      },
      "source": [
        "#### Artificial Neural Network for BERT Embeddings "
      ]
    },
    {
      "cell_type": "code",
      "execution_count": null,
      "metadata": {
        "id": "RHi2BILU-NeJ"
      },
      "outputs": [],
      "source": [
        "def ann_label(X_train, X_test, y_train, y_test):\n",
        "  model = Sequential()\n",
        "  model.add(Dense(128, input_dim=256, activation='relu'))\n",
        "  model.add(Dense(64, activation='relu'))\n",
        "  model.add(Dense(32, activation='relu'))\n",
        "  model.add(Dense(16, activation='relu'))\n",
        "  model.add(Dense(8, activation='relu'))\n",
        "  model.add(Dense(3, activation='softmax'))\n",
        "  # compile the keras model\n",
        "  model.compile(loss='binary_crossentropy', optimizer='adam', metrics=['accuracy'])\n",
        "  # fit the keras model on the dataset\n",
        "  model.fit(X_train, y_train, epochs=100, batch_size=1111)\n",
        "  # evaluate the keras model\n",
        "  _, accuracy = model.evaluate(X_train, y_train)\n",
        "  print('Accuracy: %.2f' % (accuracy*100))\n",
        "  return model.predict(X_test)"
      ]
    },
    {
      "cell_type": "code",
      "execution_count": null,
      "metadata": {
        "colab": {
          "base_uri": "https://localhost:8080/"
        },
        "id": "foI4wwjv-NeJ",
        "outputId": "495b0841-8ddc-4f36-baa7-744cf552df71"
      },
      "outputs": [
        {
          "output_type": "stream",
          "name": "stdout",
          "text": [
            "Accuracy: 0.78\n"
          ]
        }
      ],
      "source": [
        "y_pred=ann_label(X_train, X_test, y_train, y_test)\n",
        "print(\"Accuracy:\",accuracy_score(y_test, y_pred))"
      ]
    },
    {
      "cell_type": "code",
      "source": [
        "cf_matrix = confusion_matrix(y_test, y_pred)\n",
        "sns.heatmap(cf_matrix/np.sum(cf_matrix), annot=True, \n",
        "            fmt='.2%', cmap='Blues')"
      ],
      "metadata": {
        "colab": {
          "base_uri": "https://localhost:8080/",
          "height": 283
        },
        "id": "osFn3q3eAnn5",
        "outputId": "819702e2-c3a6-47c9-b6b1-b97d8b2a6c46"
      },
      "execution_count": null,
      "outputs": [
        {
          "output_type": "execute_result",
          "data": {
            "text/plain": [
              "<matplotlib.axes._subplots.AxesSubplot at 0x7f1eb82c3dd0>"
            ]
          },
          "metadata": {},
          "execution_count": 17
        },
        {
          "output_type": "display_data",
          "data": {
            "text/plain": [
              "<Figure size 432x288 with 2 Axes>"
            ],
            "image/png": "[encoded data removed]"
          },
          "metadata": {
            "needs_background": "light"
          }
        }
      ]
    },
    {
      "cell_type": "markdown",
      "metadata": {
        "id": "QtHwi_zA-NeK"
      },
      "source": [
        "### Doc to Vector Embeddings"
      ]
    },
    {
      "cell_type": "code",
      "execution_count": null,
      "metadata": {
        "id": "Yl6viEKP-NeK"
      },
      "outputs": [],
      "source": [
        "from gensim.models.doc2vec import Doc2Vec, TaggedDocument\n",
        "from nltk.tokenize import word_tokenize"
      ]
    },
    {
      "cell_type": "code",
      "execution_count": null,
      "metadata": {
        "id": "vFZ8ViJm-NeK"
      },
      "outputs": [],
      "source": [
        "data = df['title1_en'].values.tolist()\n",
        "\n",
        "tagged_data = [TaggedDocument(words=word_tokenize(_d.lower()), tags=[str(i)]) for i, _d in enumerate(data)]"
      ]
    },
    {
      "cell_type": "code",
      "execution_count": null,
      "metadata": {
        "id": "y9ZVTSNv-NeK"
      },
      "outputs": [],
      "source": [
        "max_epochs = 10\n",
        "vec_size = 20\n",
        "alpha = 0.025\n",
        "\n",
        "model = Doc2Vec(size=vec_size,\n",
        "                alpha=alpha, \n",
        "                min_alpha=0.00025,\n",
        "                min_count=1,\n",
        "                dm =1)\n",
        "  \n",
        "model.build_vocab(tagged_data)\n",
        "\n",
        "for epoch in range(max_epochs):\n",
        "    print('iteration {0}'.format(epoch))\n",
        "    model.train(tagged_data,\n",
        "                total_examples=model.corpus_count,\n",
        "                epochs=model.iter)\n",
        "    # decrease the learning rate\n",
        "    model.alpha -= 0.0002\n",
        "    # fix the learning rate, no decay\n",
        "    model.min_alpha = model.alpha"
      ]
    },
    {
      "cell_type": "code",
      "execution_count": null,
      "metadata": {
        "id": "8T3te5aC-NeL"
      },
      "outputs": [],
      "source": [
        "from gensim.models.doc2vec import Doc2Vec\n",
        "\n",
        "#to find the vector of a document which is not in training data\n",
        "t_data=df['title1_en'].values.tolist()\n",
        "test_data = [word_tokenize(_d.lower()) for _d in t_data]\n",
        "v1=[model.infer_vector(d) for d in test_data]\n",
        "\n",
        "t_data2=df['title2_en'].values.tolist()\n",
        "test_data2 = [word_tokenize(_d.lower()) for _d in t_data2]\n",
        "v2=[model.infer_vector(d) for d in test_data2]"
      ]
    },
    {
      "cell_type": "markdown",
      "metadata": {
        "id": "3m6MisDg-NeL"
      },
      "source": [
        "#### Cosine Similarity for DOC to VEC embeddings"
      ]
    },
    {
      "cell_type": "code",
      "execution_count": null,
      "metadata": {
        "id": "K2mFlmpZ-NeM"
      },
      "outputs": [],
      "source": [
        "res=[]\n",
        "for i in range(12000):\n",
        "  res.append(cosine_similarity([v1[i]],[v2[i]])[0][0])"
      ]
    },
    {
      "cell_type": "code",
      "execution_count": null,
      "metadata": {
        "colab": {
          "base_uri": "https://localhost:8080/"
        },
        "id": "ubSJouK0-NeM",
        "outputId": "2866ac15-5764-4990-8be1-739ace6eec8a"
      },
      "outputs": [
        {
          "output_type": "stream",
          "name": "stdout",
          "text": [
            "Accuracy: 0.5994\n"
          ]
        }
      ],
      "source": [
        "df_pred = pd.cut(x=res, bins=[0, 0.7,0.9,1],labels=[0, 1,2])\n",
        "print(\"Accuracy:\",accuracy_score(df1.values.tolist(), df_pred.tolist()))"
      ]
    },
    {
      "cell_type": "code",
      "source": [
        "cf_matrix = confusion_matrix(df1.values.tolist(), df_pred.tolist())\n",
        "sns.heatmap(cf_matrix/np.sum(cf_matrix), annot=True, \n",
        "            fmt='.2%', cmap='Blues')"
      ],
      "metadata": {
        "colab": {
          "base_uri": "https://localhost:8080/",
          "height": 283
        },
        "id": "uj9nsw0FA3pL",
        "outputId": "cb716477-cf11-4143-9ba3-97012ed3a085"
      },
      "execution_count": null,
      "outputs": [
        {
          "output_type": "execute_result",
          "data": {
            "text/plain": [
              "<matplotlib.axes._subplots.AxesSubplot at 0x7f1eb5f76990>"
            ]
          },
          "metadata": {},
          "execution_count": 44
        },
        {
          "output_type": "display_data",
          "data": {
            "text/plain": [
              "<Figure size 432x288 with 2 Axes>"
            ],
            "image/png": "[encoded data removed]"
          },
          "metadata": {
            "needs_background": "light"
          }
        }
      ]
    },
    {
      "cell_type": "code",
      "execution_count": null,
      "metadata": {
        "id": "2m5EBodM-NeM"
      },
      "outputs": [],
      "source": [
        "df_1 = pd.DataFrame(np.array(v1))\n",
        "df_2 = pd.DataFrame(np.array(v2))\n",
        "df = pd.concat([df_1, df_2], axis=1, join='inner')"
      ]
    },
    {
      "cell_type": "code",
      "execution_count": null,
      "metadata": {
        "id": "fFd1Uz4T-NeN"
      },
      "outputs": [],
      "source": [
        "from sklearn.model_selection import train_test_split\n",
        "X_train, X_test, y_train, y_test = train_test_split(df, df1,stratify=df1,test_size=0.33)"
      ]
    },
    {
      "cell_type": "markdown",
      "metadata": {
        "id": "CumJ5iSC-NeN"
      },
      "source": [
        "#### SVM for DOC to VEC embeddings"
      ]
    },
    {
      "cell_type": "code",
      "execution_count": null,
      "metadata": {
        "colab": {
          "base_uri": "https://localhost:8080/"
        },
        "id": "Vy47CUAK-NeN",
        "outputId": "1506f7ed-fb8f-4587-99c7-6dbd79778baa"
      },
      "outputs": [
        {
          "output_type": "stream",
          "name": "stdout",
          "text": [
            "Accuracy: 0.619\n"
          ]
        }
      ],
      "source": [
        "# clf = svm.SVC(kernel='linear') \n",
        "# clf.fit(X_train, y_train)\n",
        "# y_pred = clf.predict(X_test)\n",
        "print(\"Accuracy:\",accuracy_score(y_test, y_pred))"
      ]
    },
    {
      "cell_type": "code",
      "source": [
        "cf_matrix = confusion_matrix(y_test, y_pred)\n",
        "sns.heatmap(cf_matrix/np.sum(cf_matrix), annot=True, \n",
        "            fmt='.2%', cmap='Blues')"
      ],
      "metadata": {
        "colab": {
          "base_uri": "https://localhost:8080/",
          "height": 283
        },
        "id": "68JvXl6RBa40",
        "outputId": "d909d4fd-1e2a-4653-aae1-35c01e1eadfb"
      },
      "execution_count": null,
      "outputs": [
        {
          "output_type": "execute_result",
          "data": {
            "text/plain": [
              "<matplotlib.axes._subplots.AxesSubplot at 0x7f1eb6038c10>"
            ]
          },
          "metadata": {},
          "execution_count": 40
        },
        {
          "output_type": "display_data",
          "data": {
            "text/plain": [
              "<Figure size 432x288 with 2 Axes>"
            ],
            "image/png": "[encoded data removed]"
          },
          "metadata": {
            "needs_background": "light"
          }
        }
      ]
    },
    {
      "cell_type": "markdown",
      "metadata": {
        "id": "BtLHLMmW-NeN"
      },
      "source": [
        "#### Gaussian Naive Bayes for DOC to VEC Embeddings"
      ]
    },
    {
      "cell_type": "code",
      "execution_count": null,
      "metadata": {
        "colab": {
          "base_uri": "https://localhost:8080/"
        },
        "id": "Mr_wd9Fc-NeO",
        "outputId": "dae1632c-e042-435f-8e06-a356bba821a8"
      },
      "outputs": [
        {
          "output_type": "stream",
          "name": "stdout",
          "text": [
            "Accuracy: 0.6205\n"
          ]
        }
      ],
      "source": [
        "gnb = GaussianNB()\n",
        "y_pred = gnb.fit(X_train, y_train).predict(X_test)\n",
        "print(\"Accuracy:\",accuracy_score(y_test, y_pred))"
      ]
    },
    {
      "cell_type": "code",
      "source": [
        "cf_matrix = confusion_matrix(y_test, y_pred)\n",
        "sns.heatmap(cf_matrix/np.sum(cf_matrix), annot=True, \n",
        "            fmt='.2%', cmap='Blues')"
      ],
      "metadata": {
        "colab": {
          "base_uri": "https://localhost:8080/",
          "height": 283
        },
        "id": "9Y_igxjOCMEx",
        "outputId": "8add2b62-cf6a-4d02-a9fa-2b4941919bbd"
      },
      "execution_count": null,
      "outputs": [
        {
          "output_type": "execute_result",
          "data": {
            "text/plain": [
              "<matplotlib.axes._subplots.AxesSubplot at 0x7f1eb6315710>"
            ]
          },
          "metadata": {},
          "execution_count": 33
        },
        {
          "output_type": "display_data",
          "data": {
            "text/plain": [
              "<Figure size 432x288 with 2 Axes>"
            ],
            "image/png": "[encoded data removed]"
          },
          "metadata": {
            "needs_background": "light"
          }
        }
      ]
    },
    {
      "cell_type": "markdown",
      "metadata": {
        "id": "2N4v_eDn-NeO"
      },
      "source": [
        "#### ANN for DOC to VEC Embeddings"
      ]
    },
    {
      "cell_type": "code",
      "execution_count": null,
      "metadata": {
        "id": "XlydxoFJ-NeO"
      },
      "outputs": [],
      "source": [
        "def ann_label(X_train, X_test, y_train, y_test):\n",
        "  model = Sequential()\n",
        "  model.add(Dense(20, input_dim=40, activation='relu'))\n",
        "  model.add(Dense(10, activation='relu'))\n",
        "  model.add(Dense(5, activation='relu'))\n",
        "  model.add(Dense(3, activation='softmax'))\n",
        "  # compile the keras model\n",
        "  model.compile(loss='binary_crossentropy', optimizer='adam', metrics=['accuracy'])\n",
        "  # fit the keras model on the dataset\n",
        "  model.fit(X_train, y_train, epochs=100, batch_size=1111)\n",
        "  # evaluate the keras model\n",
        "  _, accuracy = model.evaluate(X_train, y_train)\n",
        "  print('Accuracy: %.2f' % (accuracy*100))\n",
        "  return model.predict(X_test)"
      ]
    },
    {
      "cell_type": "code",
      "execution_count": null,
      "metadata": {
        "colab": {
          "base_uri": "https://localhost:8080/"
        },
        "id": "zNIf3h_G-NeP",
        "outputId": "78137419-0d31-4d80-90fc-aca1f8ff56b8"
      },
      "outputs": [
        {
          "output_type": "stream",
          "name": "stdout",
          "text": [
            "Accuracy: 0.6688\n"
          ]
        }
      ],
      "source": [
        "y_pred=ann_label(X_train, X_test, y_train, y_test)\n",
        "print(\"Accuracy:\",accuracy_score(y_test, y_pred))"
      ]
    },
    {
      "cell_type": "code",
      "source": [
        "cf_matrix = confusion_matrix(y_test, y_pred)\n",
        "sns.heatmap(cf_matrix/np.sum(cf_matrix), annot=True, \n",
        "            fmt='.2%', cmap='Blues')"
      ],
      "metadata": {
        "colab": {
          "base_uri": "https://localhost:8080/",
          "height": 283
        },
        "id": "2kEgb4UqCoaJ",
        "outputId": "ceed4083-a7b0-4084-ed26-a34c7157b227"
      },
      "execution_count": null,
      "outputs": [
        {
          "output_type": "execute_result",
          "data": {
            "text/plain": [
              "<matplotlib.axes._subplots.AxesSubplot at 0x7f1eb61b0610>"
            ]
          },
          "metadata": {},
          "execution_count": 36
        },
        {
          "output_type": "display_data",
          "data": {
            "text/plain": [
              "<Figure size 432x288 with 2 Axes>"
            ],
            "image/png": "[encoded data removed]"
          },
          "metadata": {
            "needs_background": "light"
          }
        }
      ]
    }
  ],
  "metadata": {
    "colab": {
      "collapsed_sections": [],
      "name": "Data-Mining-Project.ipynb",
      "provenance": []
    },
    "kernelspec": {
      "display_name": "Python 3",
      "name": "python3"
    },
    "language_info": {
      "name": "python"
    }
  },
  "nbformat": 4,
  "nbformat_minor": 0
}